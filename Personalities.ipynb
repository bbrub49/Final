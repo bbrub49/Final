{
 "cells": [
  {
   "cell_type": "code",
   "execution_count": 1,
   "metadata": {
    "collapsed": false
   },
   "outputs": [
    {
     "name": "stdout",
     "output_type": "stream",
     "text": [
      "Populating the interactive namespace from numpy and matplotlib\n"
     ]
    }
   ],
   "source": [
    "import pandas as pd\n",
    "from matplotlib import pyplot as plt\n",
    "from sklearn.cluster import KMeans\n",
    "from sklearn.ensemble import RandomForestRegressor\n",
    "from sklearn.ensemble import RandomForestClassifier\n",
    "from sklearn.cross_validation import train_test_split\n",
    "from sklearn.grid_search import GridSearchCV\n",
    "from sklearn import cross_validation\n",
    "from sklearn.metrics import mean_squared_error\n",
    "from sklearn.metrics import r2_score\n",
    "from sklearn.metrics import roc_auc_score\n",
    "from sklearn import metrics\n",
    "from scipy import stats\n",
    "%pylab inline\n",
    "%matplotlib inline\n",
    "pd.options.display.max_columns = 100\n",
    "pd.set_option('display.float_format', lambda x: '%.3f' % x)"
   ]
  },
  {
   "cell_type": "code",
   "execution_count": 2,
   "metadata": {
    "collapsed": true
   },
   "outputs": [],
   "source": [
    "#Idea for switch def from http://www.pydanny.com/why-doesnt-python-have-switch-case.html\n",
    "def reverse(x):\n",
    "    switch = {\n",
    "        0: 0,\n",
    "        1: 5,\n",
    "        2: 4,\n",
    "        3: 3,\n",
    "        4: 2,\n",
    "        5: 1,\n",
    "    }\n",
    "    return switch.get(x,99)"
   ]
  },
  {
   "cell_type": "code",
   "execution_count": 3,
   "metadata": {
    "collapsed": true
   },
   "outputs": [],
   "source": [
    "df = pd.read_csv(\"data.csv\")"
   ]
  },
  {
   "cell_type": "code",
   "execution_count": 4,
   "metadata": {
    "collapsed": false
   },
   "outputs": [
    {
     "data": {
      "text/plain": [
       "(19719, 57)"
      ]
     },
     "execution_count": 4,
     "metadata": {},
     "output_type": "execute_result"
    }
   ],
   "source": [
    "df.shape"
   ]
  },
  {
   "cell_type": "code",
   "execution_count": 5,
   "metadata": {
    "collapsed": false
   },
   "outputs": [
    {
     "data": {
      "text/html": [
       "<div>\n",
       "<table border=\"1\" class=\"dataframe\">\n",
       "  <thead>\n",
       "    <tr style=\"text-align: right;\">\n",
       "      <th></th>\n",
       "      <th>race</th>\n",
       "      <th>age</th>\n",
       "      <th>engnat</th>\n",
       "      <th>gender</th>\n",
       "      <th>hand</th>\n",
       "      <th>source</th>\n",
       "      <th>country</th>\n",
       "      <th>E1</th>\n",
       "      <th>E2</th>\n",
       "      <th>E3</th>\n",
       "      <th>E4</th>\n",
       "      <th>E5</th>\n",
       "      <th>E6</th>\n",
       "      <th>E7</th>\n",
       "      <th>E8</th>\n",
       "      <th>E9</th>\n",
       "      <th>E10</th>\n",
       "      <th>N1</th>\n",
       "      <th>N2</th>\n",
       "      <th>N3</th>\n",
       "      <th>N4</th>\n",
       "      <th>N5</th>\n",
       "      <th>N6</th>\n",
       "      <th>N7</th>\n",
       "      <th>N8</th>\n",
       "      <th>N9</th>\n",
       "      <th>N10</th>\n",
       "      <th>A1</th>\n",
       "      <th>A2</th>\n",
       "      <th>A3</th>\n",
       "      <th>A4</th>\n",
       "      <th>A5</th>\n",
       "      <th>A6</th>\n",
       "      <th>A7</th>\n",
       "      <th>A8</th>\n",
       "      <th>A9</th>\n",
       "      <th>A10</th>\n",
       "      <th>C1</th>\n",
       "      <th>C2</th>\n",
       "      <th>C3</th>\n",
       "      <th>C4</th>\n",
       "      <th>C5</th>\n",
       "      <th>C6</th>\n",
       "      <th>C7</th>\n",
       "      <th>C8</th>\n",
       "      <th>C9</th>\n",
       "      <th>C10</th>\n",
       "      <th>O1</th>\n",
       "      <th>O2</th>\n",
       "      <th>O3</th>\n",
       "      <th>O4</th>\n",
       "      <th>O5</th>\n",
       "      <th>O6</th>\n",
       "      <th>O7</th>\n",
       "      <th>O8</th>\n",
       "      <th>O9</th>\n",
       "      <th>O10</th>\n",
       "    </tr>\n",
       "  </thead>\n",
       "  <tbody>\n",
       "    <tr>\n",
       "      <th>0</th>\n",
       "      <td>3</td>\n",
       "      <td>53</td>\n",
       "      <td>1</td>\n",
       "      <td>1</td>\n",
       "      <td>1</td>\n",
       "      <td>1</td>\n",
       "      <td>US</td>\n",
       "      <td>4</td>\n",
       "      <td>2</td>\n",
       "      <td>5</td>\n",
       "      <td>2</td>\n",
       "      <td>5</td>\n",
       "      <td>1</td>\n",
       "      <td>4</td>\n",
       "      <td>3</td>\n",
       "      <td>5</td>\n",
       "      <td>1</td>\n",
       "      <td>1</td>\n",
       "      <td>5</td>\n",
       "      <td>2</td>\n",
       "      <td>5</td>\n",
       "      <td>1</td>\n",
       "      <td>1</td>\n",
       "      <td>1</td>\n",
       "      <td>1</td>\n",
       "      <td>1</td>\n",
       "      <td>1</td>\n",
       "      <td>1</td>\n",
       "      <td>5</td>\n",
       "      <td>1</td>\n",
       "      <td>5</td>\n",
       "      <td>2</td>\n",
       "      <td>3</td>\n",
       "      <td>1</td>\n",
       "      <td>5</td>\n",
       "      <td>4</td>\n",
       "      <td>5</td>\n",
       "      <td>4</td>\n",
       "      <td>1</td>\n",
       "      <td>5</td>\n",
       "      <td>1</td>\n",
       "      <td>5</td>\n",
       "      <td>1</td>\n",
       "      <td>4</td>\n",
       "      <td>1</td>\n",
       "      <td>4</td>\n",
       "      <td>5</td>\n",
       "      <td>4</td>\n",
       "      <td>1</td>\n",
       "      <td>3</td>\n",
       "      <td>1</td>\n",
       "      <td>5</td>\n",
       "      <td>1</td>\n",
       "      <td>4</td>\n",
       "      <td>2</td>\n",
       "      <td>5</td>\n",
       "      <td>5.000</td>\n",
       "    </tr>\n",
       "    <tr>\n",
       "      <th>1</th>\n",
       "      <td>13</td>\n",
       "      <td>46</td>\n",
       "      <td>1</td>\n",
       "      <td>2</td>\n",
       "      <td>1</td>\n",
       "      <td>1</td>\n",
       "      <td>US</td>\n",
       "      <td>2</td>\n",
       "      <td>2</td>\n",
       "      <td>3</td>\n",
       "      <td>3</td>\n",
       "      <td>3</td>\n",
       "      <td>3</td>\n",
       "      <td>1</td>\n",
       "      <td>5</td>\n",
       "      <td>1</td>\n",
       "      <td>5</td>\n",
       "      <td>2</td>\n",
       "      <td>3</td>\n",
       "      <td>4</td>\n",
       "      <td>2</td>\n",
       "      <td>3</td>\n",
       "      <td>4</td>\n",
       "      <td>3</td>\n",
       "      <td>2</td>\n",
       "      <td>2</td>\n",
       "      <td>4</td>\n",
       "      <td>1</td>\n",
       "      <td>3</td>\n",
       "      <td>3</td>\n",
       "      <td>4</td>\n",
       "      <td>4</td>\n",
       "      <td>4</td>\n",
       "      <td>2</td>\n",
       "      <td>3</td>\n",
       "      <td>4</td>\n",
       "      <td>3</td>\n",
       "      <td>4</td>\n",
       "      <td>1</td>\n",
       "      <td>3</td>\n",
       "      <td>2</td>\n",
       "      <td>3</td>\n",
       "      <td>1</td>\n",
       "      <td>5</td>\n",
       "      <td>1</td>\n",
       "      <td>4</td>\n",
       "      <td>4</td>\n",
       "      <td>3</td>\n",
       "      <td>3</td>\n",
       "      <td>3</td>\n",
       "      <td>3</td>\n",
       "      <td>2</td>\n",
       "      <td>3</td>\n",
       "      <td>3</td>\n",
       "      <td>1</td>\n",
       "      <td>3</td>\n",
       "      <td>2.000</td>\n",
       "    </tr>\n",
       "    <tr>\n",
       "      <th>2</th>\n",
       "      <td>1</td>\n",
       "      <td>14</td>\n",
       "      <td>2</td>\n",
       "      <td>2</td>\n",
       "      <td>1</td>\n",
       "      <td>1</td>\n",
       "      <td>PK</td>\n",
       "      <td>5</td>\n",
       "      <td>1</td>\n",
       "      <td>1</td>\n",
       "      <td>4</td>\n",
       "      <td>5</td>\n",
       "      <td>1</td>\n",
       "      <td>1</td>\n",
       "      <td>5</td>\n",
       "      <td>5</td>\n",
       "      <td>1</td>\n",
       "      <td>5</td>\n",
       "      <td>1</td>\n",
       "      <td>5</td>\n",
       "      <td>5</td>\n",
       "      <td>5</td>\n",
       "      <td>5</td>\n",
       "      <td>5</td>\n",
       "      <td>5</td>\n",
       "      <td>5</td>\n",
       "      <td>5</td>\n",
       "      <td>5</td>\n",
       "      <td>1</td>\n",
       "      <td>5</td>\n",
       "      <td>5</td>\n",
       "      <td>1</td>\n",
       "      <td>5</td>\n",
       "      <td>1</td>\n",
       "      <td>5</td>\n",
       "      <td>5</td>\n",
       "      <td>5</td>\n",
       "      <td>4</td>\n",
       "      <td>1</td>\n",
       "      <td>5</td>\n",
       "      <td>1</td>\n",
       "      <td>5</td>\n",
       "      <td>1</td>\n",
       "      <td>5</td>\n",
       "      <td>1</td>\n",
       "      <td>5</td>\n",
       "      <td>5</td>\n",
       "      <td>4</td>\n",
       "      <td>5</td>\n",
       "      <td>5</td>\n",
       "      <td>1</td>\n",
       "      <td>5</td>\n",
       "      <td>1</td>\n",
       "      <td>5</td>\n",
       "      <td>5</td>\n",
       "      <td>5</td>\n",
       "      <td>5.000</td>\n",
       "    </tr>\n",
       "    <tr>\n",
       "      <th>3</th>\n",
       "      <td>3</td>\n",
       "      <td>19</td>\n",
       "      <td>2</td>\n",
       "      <td>2</td>\n",
       "      <td>1</td>\n",
       "      <td>1</td>\n",
       "      <td>RO</td>\n",
       "      <td>2</td>\n",
       "      <td>5</td>\n",
       "      <td>2</td>\n",
       "      <td>4</td>\n",
       "      <td>3</td>\n",
       "      <td>4</td>\n",
       "      <td>3</td>\n",
       "      <td>4</td>\n",
       "      <td>4</td>\n",
       "      <td>5</td>\n",
       "      <td>5</td>\n",
       "      <td>4</td>\n",
       "      <td>4</td>\n",
       "      <td>2</td>\n",
       "      <td>4</td>\n",
       "      <td>5</td>\n",
       "      <td>5</td>\n",
       "      <td>5</td>\n",
       "      <td>4</td>\n",
       "      <td>5</td>\n",
       "      <td>2</td>\n",
       "      <td>5</td>\n",
       "      <td>4</td>\n",
       "      <td>4</td>\n",
       "      <td>3</td>\n",
       "      <td>5</td>\n",
       "      <td>3</td>\n",
       "      <td>4</td>\n",
       "      <td>4</td>\n",
       "      <td>3</td>\n",
       "      <td>3</td>\n",
       "      <td>3</td>\n",
       "      <td>4</td>\n",
       "      <td>5</td>\n",
       "      <td>1</td>\n",
       "      <td>4</td>\n",
       "      <td>5</td>\n",
       "      <td>4</td>\n",
       "      <td>2</td>\n",
       "      <td>3</td>\n",
       "      <td>4</td>\n",
       "      <td>3</td>\n",
       "      <td>5</td>\n",
       "      <td>2</td>\n",
       "      <td>4</td>\n",
       "      <td>2</td>\n",
       "      <td>5</td>\n",
       "      <td>2</td>\n",
       "      <td>5</td>\n",
       "      <td>5.000</td>\n",
       "    </tr>\n",
       "    <tr>\n",
       "      <th>4</th>\n",
       "      <td>11</td>\n",
       "      <td>25</td>\n",
       "      <td>2</td>\n",
       "      <td>2</td>\n",
       "      <td>1</td>\n",
       "      <td>2</td>\n",
       "      <td>US</td>\n",
       "      <td>3</td>\n",
       "      <td>1</td>\n",
       "      <td>3</td>\n",
       "      <td>3</td>\n",
       "      <td>3</td>\n",
       "      <td>1</td>\n",
       "      <td>3</td>\n",
       "      <td>1</td>\n",
       "      <td>3</td>\n",
       "      <td>5</td>\n",
       "      <td>3</td>\n",
       "      <td>3</td>\n",
       "      <td>3</td>\n",
       "      <td>4</td>\n",
       "      <td>3</td>\n",
       "      <td>3</td>\n",
       "      <td>3</td>\n",
       "      <td>3</td>\n",
       "      <td>3</td>\n",
       "      <td>4</td>\n",
       "      <td>5</td>\n",
       "      <td>5</td>\n",
       "      <td>3</td>\n",
       "      <td>5</td>\n",
       "      <td>1</td>\n",
       "      <td>5</td>\n",
       "      <td>1</td>\n",
       "      <td>5</td>\n",
       "      <td>5</td>\n",
       "      <td>5</td>\n",
       "      <td>3</td>\n",
       "      <td>1</td>\n",
       "      <td>5</td>\n",
       "      <td>3</td>\n",
       "      <td>3</td>\n",
       "      <td>1</td>\n",
       "      <td>1</td>\n",
       "      <td>3</td>\n",
       "      <td>3</td>\n",
       "      <td>3</td>\n",
       "      <td>3</td>\n",
       "      <td>1</td>\n",
       "      <td>1</td>\n",
       "      <td>1</td>\n",
       "      <td>3</td>\n",
       "      <td>1</td>\n",
       "      <td>3</td>\n",
       "      <td>1</td>\n",
       "      <td>5</td>\n",
       "      <td>3.000</td>\n",
       "    </tr>\n",
       "  </tbody>\n",
       "</table>\n",
       "</div>"
      ],
      "text/plain": [
       "   race  age  engnat  gender  hand  source country  E1  E2  E3  E4  E5  E6  \\\n",
       "0     3   53       1       1     1       1      US   4   2   5   2   5   1   \n",
       "1    13   46       1       2     1       1      US   2   2   3   3   3   3   \n",
       "2     1   14       2       2     1       1      PK   5   1   1   4   5   1   \n",
       "3     3   19       2       2     1       1      RO   2   5   2   4   3   4   \n",
       "4    11   25       2       2     1       2      US   3   1   3   3   3   1   \n",
       "\n",
       "   E7  E8  E9  E10  N1  N2  N3  N4  N5  N6  N7  N8  N9  N10  A1  A2  A3  A4  \\\n",
       "0   4   3   5    1   1   5   2   5   1   1   1   1   1    1   1   5   1   5   \n",
       "1   1   5   1    5   2   3   4   2   3   4   3   2   2    4   1   3   3   4   \n",
       "2   1   5   5    1   5   1   5   5   5   5   5   5   5    5   5   1   5   5   \n",
       "3   3   4   4    5   5   4   4   2   4   5   5   5   4    5   2   5   4   4   \n",
       "4   3   1   3    5   3   3   3   4   3   3   3   3   3    4   5   5   3   5   \n",
       "\n",
       "   A5  A6  A7  A8  A9  A10  C1  C2  C3  C4  C5  C6  C7  C8  C9  C10  O1  O2  \\\n",
       "0   2   3   1   5   4    5   4   1   5   1   5   1   4   1   4    5   4   1   \n",
       "1   4   4   2   3   4    3   4   1   3   2   3   1   5   1   4    4   3   3   \n",
       "2   1   5   1   5   5    5   4   1   5   1   5   1   5   1   5    5   4   5   \n",
       "3   3   5   3   4   4    3   3   3   4   5   1   4   5   4   2    3   4   3   \n",
       "4   1   5   1   5   5    5   3   1   5   3   3   1   1   3   3    3   3   1   \n",
       "\n",
       "   O3  O4  O5  O6  O7  O8  O9   O10  \n",
       "0   3   1   5   1   4   2   5 5.000  \n",
       "1   3   3   2   3   3   1   3 2.000  \n",
       "2   5   1   5   1   5   5   5 5.000  \n",
       "3   5   2   4   2   5   2   5 5.000  \n",
       "4   1   1   3   1   3   1   5 3.000  "
      ]
     },
     "execution_count": 5,
     "metadata": {},
     "output_type": "execute_result"
    }
   ],
   "source": [
    "df.head()"
   ]
  },
  {
   "cell_type": "markdown",
   "metadata": {},
   "source": [
    "# EDA and Cleaning"
   ]
  },
  {
   "cell_type": "code",
   "execution_count": 6,
   "metadata": {
    "collapsed": false
   },
   "outputs": [
    {
     "name": "stdout",
     "output_type": "stream",
     "text": [
      "race   0\n",
      "age   0\n",
      "engnat   0\n",
      "gender   0\n",
      "hand   0\n",
      "source   0\n",
      "country   8\n",
      "E1   0\n",
      "E2   0\n",
      "E3   0\n",
      "E4   0\n",
      "E5   0\n",
      "E6   0\n",
      "E7   0\n",
      "E8   0\n",
      "E9   0\n",
      "E10   0\n",
      "N1   0\n",
      "N2   0\n",
      "N3   0\n",
      "N4   0\n",
      "N5   0\n",
      "N6   0\n",
      "N7   0\n",
      "N8   0\n",
      "N9   0\n",
      "N10   0\n",
      "A1   0\n",
      "A2   0\n",
      "A3   0\n",
      "A4   0\n",
      "A5   0\n",
      "A6   0\n",
      "A7   0\n",
      "A8   0\n",
      "A9   0\n",
      "A10   0\n",
      "C1   0\n",
      "C2   0\n",
      "C3   0\n",
      "C4   0\n",
      "C5   0\n",
      "C6   0\n",
      "C7   0\n",
      "C8   0\n",
      "C9   0\n",
      "C10   0\n",
      "O1   0\n",
      "O2   0\n",
      "O3   0\n",
      "O4   0\n",
      "O5   0\n",
      "O6   0\n",
      "O7   0\n",
      "O8   0\n",
      "O9   0\n",
      "O10   1\n"
     ]
    }
   ],
   "source": [
    "for c in df.columns:\n",
    "    print c, ' ', df[c].isnull().sum()"
   ]
  },
  {
   "cell_type": "code",
   "execution_count": 7,
   "metadata": {
    "collapsed": true
   },
   "outputs": [],
   "source": [
    "df.dropna(inplace=True)"
   ]
  },
  {
   "cell_type": "code",
   "execution_count": 8,
   "metadata": {
    "collapsed": false
   },
   "outputs": [
    {
     "data": {
      "text/plain": [
       "1    17415\n",
       "2     1724\n",
       "3      471\n",
       "0      100\n",
       "dtype: int64"
      ]
     },
     "execution_count": 8,
     "metadata": {},
     "output_type": "execute_result"
    }
   ],
   "source": [
    "df.hand.value_counts()"
   ]
  },
  {
   "cell_type": "code",
   "execution_count": 9,
   "metadata": {
    "collapsed": false
   },
   "outputs": [
    {
     "data": {
      "text/plain": [
       "1    12376\n",
       "2     7264\n",
       "0       70\n",
       "dtype: int64"
      ]
     },
     "execution_count": 9,
     "metadata": {},
     "output_type": "execute_result"
    }
   ],
   "source": [
    "df.engnat.value_counts()"
   ]
  },
  {
   "cell_type": "code",
   "execution_count": 10,
   "metadata": {
    "collapsed": false
   },
   "outputs": [
    {
     "data": {
      "text/plain": [
       "2    11977\n",
       "1     7607\n",
       "3      102\n",
       "0       24\n",
       "dtype: int64"
      ]
     },
     "execution_count": 10,
     "metadata": {},
     "output_type": "execute_result"
    }
   ],
   "source": [
    "df.gender.value_counts()"
   ]
  },
  {
   "cell_type": "code",
   "execution_count": 11,
   "metadata": {
    "collapsed": false
   },
   "outputs": [
    {
     "data": {
      "text/plain": [
       "3     10535\n",
       "13     2550\n",
       "11     1861\n",
       "4      1518\n",
       "1      1433\n",
       "5       514\n",
       "6       397\n",
       "12      257\n",
       "8       201\n",
       "9       188\n",
       "0       153\n",
       "10       65\n",
       "7        24\n",
       "2        14\n",
       "dtype: int64"
      ]
     },
     "execution_count": 11,
     "metadata": {},
     "output_type": "execute_result"
    }
   ],
   "source": [
    "df.race.value_counts()"
   ]
  },
  {
   "cell_type": "code",
   "execution_count": 12,
   "metadata": {
    "collapsed": false
   },
   "outputs": [
    {
     "data": {
      "text/plain": [
       "count       19710.000\n",
       "mean        50790.198\n",
       "std       7122897.597\n",
       "min            13.000\n",
       "25%            18.000\n",
       "50%            22.000\n",
       "75%            31.000\n",
       "max     999999999.000\n",
       "Name: age, dtype: float64"
      ]
     },
     "execution_count": 12,
     "metadata": {},
     "output_type": "execute_result"
    }
   ],
   "source": [
    "df.age.describe()"
   ]
  },
  {
   "cell_type": "code",
   "execution_count": 13,
   "metadata": {
    "collapsed": false
   },
   "outputs": [
    {
     "data": {
      "text/plain": [
       "US     8753\n",
       "GB     1531\n",
       "IN     1464\n",
       "AU      974\n",
       "CA      924\n",
       "PH      649\n",
       "(nu     369\n",
       "IT      277\n",
       "MY      247\n",
       "PK      222\n",
       "DE      191\n",
       "ZA      179\n",
       "BR      175\n",
       "ID      172\n",
       "SE      169\n",
       "NZ      157\n",
       "NO      147\n",
       "RO      135\n",
       "SG      133\n",
       "NL      133\n",
       "FR      129\n",
       "DK      122\n",
       "IE      107\n",
       "AE      100\n",
       "FI       90\n",
       "PT       88\n",
       "BE       86\n",
       "GR       85\n",
       "RS       85\n",
       "MX       82\n",
       "       ... \n",
       "NI        2\n",
       "CM        2\n",
       "TZ        2\n",
       "PG        2\n",
       "HT        2\n",
       "RW        2\n",
       "LY        2\n",
       "LS        2\n",
       "TC        1\n",
       "AG        1\n",
       "GY        1\n",
       "GP        1\n",
       "AO        1\n",
       "AS        1\n",
       "UZ        1\n",
       "GD        1\n",
       "SD        1\n",
       "BT        1\n",
       "BF        1\n",
       "IM        1\n",
       "CV        1\n",
       "MR        1\n",
       "PW        1\n",
       "KY        1\n",
       "KZ        1\n",
       "KG        1\n",
       "ET        1\n",
       "FO        1\n",
       "SR        1\n",
       "GU        1\n",
       "dtype: int64"
      ]
     },
     "execution_count": 13,
     "metadata": {},
     "output_type": "execute_result"
    }
   ],
   "source": [
    "df.country.value_counts()"
   ]
  },
  {
   "cell_type": "code",
   "execution_count": 14,
   "metadata": {
    "collapsed": false
   },
   "outputs": [
    {
     "name": "stdout",
     "output_type": "stream",
     "text": [
      "race   153\n",
      "age   0\n",
      "engnat   70\n",
      "gender   24\n",
      "hand   100\n",
      "source   0\n",
      "country   0\n",
      "E1   1\n",
      "E2   1\n",
      "E3   1\n",
      "E4   1\n",
      "E5   1\n",
      "E6   1\n",
      "E7   1\n",
      "E8   1\n",
      "E9   1\n",
      "E10   1\n",
      "N1   1\n",
      "N2   1\n",
      "N3   1\n",
      "N4   1\n",
      "N5   1\n",
      "N6   1\n",
      "N7   1\n",
      "N8   1\n",
      "N9   1\n",
      "N10   1\n",
      "A1   1\n",
      "A2   1\n",
      "A3   1\n",
      "A4   1\n",
      "A5   1\n",
      "A6   1\n",
      "A7   1\n",
      "A8   1\n",
      "A9   1\n",
      "A10   1\n",
      "C1   1\n",
      "C2   1\n",
      "C3   1\n",
      "C4   1\n",
      "C5   1\n",
      "C6   1\n",
      "C7   1\n",
      "C8   1\n",
      "C9   1\n",
      "C10   1\n",
      "O1   1\n",
      "O2   1\n",
      "O3   1\n",
      "O4   1\n",
      "O5   1\n",
      "O6   1\n",
      "O7   1\n",
      "O8   1\n",
      "O9   1\n",
      "O10   1\n"
     ]
    }
   ],
   "source": [
    "for c in df.columns:\n",
    "    print c, ' ', sum(df[c] == 0)"
   ]
  },
  {
   "cell_type": "code",
   "execution_count": 15,
   "metadata": {
    "collapsed": false
   },
   "outputs": [
    {
     "name": "stdout",
     "output_type": "stream",
     "text": [
      "E1 \n",
      "count   19710.000\n",
      "mean        2.629\n",
      "std         1.233\n",
      "min         0.000\n",
      "25%         2.000\n",
      "50%         3.000\n",
      "75%         4.000\n",
      "max         5.000\n",
      "Name: E1, dtype: float64 \n",
      "\n",
      "\n",
      "E2 \n",
      "count   19710.000\n",
      "mean        2.760\n",
      "std         1.314\n",
      "min         0.000\n",
      "25%         2.000\n",
      "50%         3.000\n",
      "75%         4.000\n",
      "max         5.000\n",
      "Name: E2, dtype: float64 \n",
      "\n",
      "\n",
      "E3 \n",
      "count   19710.000\n",
      "mean        3.417\n",
      "std         1.237\n",
      "min         0.000\n",
      "25%         3.000\n",
      "50%         4.000\n",
      "75%         4.000\n",
      "max         5.000\n",
      "Name: E3, dtype: float64 \n",
      "\n",
      "\n",
      "E4 \n",
      "count   19710.000\n",
      "mean        3.152\n",
      "std         1.223\n",
      "min         0.000\n",
      "25%         2.000\n",
      "50%         3.000\n",
      "75%         4.000\n",
      "max         5.000\n",
      "Name: E4, dtype: float64 \n",
      "\n",
      "\n",
      "E5 \n",
      "count   19710.000\n",
      "mean        3.432\n",
      "std         1.282\n",
      "min         0.000\n",
      "25%         2.000\n",
      "50%         4.000\n",
      "75%         5.000\n",
      "max         5.000\n",
      "Name: E5, dtype: float64 \n",
      "\n",
      "\n",
      "E6 \n",
      "count   19710.000\n",
      "mean        2.453\n",
      "std         1.242\n",
      "min         0.000\n",
      "25%         1.000\n",
      "50%         2.000\n",
      "75%         3.000\n",
      "max         5.000\n",
      "Name: E6, dtype: float64 \n",
      "\n",
      "\n",
      "E7 \n",
      "count   19710.000\n",
      "mean        2.868\n",
      "std         1.432\n",
      "min         0.000\n",
      "25%         2.000\n",
      "50%         3.000\n",
      "75%         4.000\n",
      "max         5.000\n",
      "Name: E7, dtype: float64 \n",
      "\n",
      "\n",
      "E8 \n",
      "count   19710.000\n",
      "mean        3.376\n",
      "std         1.266\n",
      "min         0.000\n",
      "25%         2.000\n",
      "50%         3.000\n",
      "75%         4.000\n",
      "max         5.000\n",
      "Name: E8, dtype: float64 \n",
      "\n",
      "\n",
      "E9 \n",
      "count   19710.000\n",
      "mean        3.095\n",
      "std         1.396\n",
      "min         0.000\n",
      "25%         2.000\n",
      "50%         3.000\n",
      "75%         4.000\n",
      "max         5.000\n",
      "Name: E9, dtype: float64 \n",
      "\n",
      "\n",
      "E10 \n",
      "count   19710.000\n",
      "mean        3.585\n",
      "std         1.305\n",
      "min         0.000\n",
      "25%         3.000\n",
      "50%         4.000\n",
      "75%         5.000\n",
      "max         5.000\n",
      "Name: E10, dtype: float64 \n",
      "\n",
      "\n",
      "N1 \n",
      "count   19710.000\n",
      "mean        3.262\n",
      "std         1.308\n",
      "min         0.000\n",
      "25%         2.000\n",
      "50%         3.000\n",
      "75%         4.000\n",
      "max         5.000\n",
      "Name: N1, dtype: float64 \n",
      "\n",
      "\n",
      "N2 \n",
      "count   19710.000\n",
      "mean        3.235\n",
      "std         1.177\n",
      "min         0.000\n",
      "25%         2.000\n",
      "50%         3.000\n",
      "75%         4.000\n",
      "max         5.000\n",
      "Name: N2, dtype: float64 \n",
      "\n",
      "\n",
      "N3 \n",
      "count   19710.000\n",
      "mean        3.843\n",
      "std         1.139\n",
      "min         0.000\n",
      "25%         3.000\n",
      "50%         4.000\n",
      "75%         5.000\n",
      "max         5.000\n",
      "Name: N3, dtype: float64 \n",
      "\n",
      "\n",
      "N4 \n",
      "count   19710.000\n",
      "mean        2.756\n",
      "std         1.221\n",
      "min         0.000\n",
      "25%         2.000\n",
      "50%         3.000\n",
      "75%         4.000\n",
      "max         5.000\n",
      "Name: N4, dtype: float64 \n",
      "\n",
      "\n",
      "N5 \n",
      "count   19710.000\n",
      "mean        2.952\n",
      "std         1.273\n",
      "min         0.000\n",
      "25%         2.000\n",
      "50%         3.000\n",
      "75%         4.000\n",
      "max         5.000\n",
      "Name: N5, dtype: float64 \n",
      "\n",
      "\n",
      "N6 \n",
      "count   19710.000\n",
      "mean        2.980\n",
      "std         1.320\n",
      "min         0.000\n",
      "25%         2.000\n",
      "50%         3.000\n",
      "75%         4.000\n",
      "max         5.000\n",
      "Name: N6, dtype: float64 \n",
      "\n",
      "\n",
      "N7 \n",
      "count   19710.000\n",
      "mean        3.152\n",
      "std         1.300\n",
      "min         0.000\n",
      "25%         2.000\n",
      "50%         3.000\n",
      "75%         4.000\n",
      "max         5.000\n",
      "Name: N7, dtype: float64 \n",
      "\n",
      "\n",
      "N8 \n",
      "count   19710.000\n",
      "mean        2.803\n",
      "std         1.351\n",
      "min         0.000\n",
      "25%         2.000\n",
      "50%         3.000\n",
      "75%         4.000\n",
      "max         5.000\n",
      "Name: N8, dtype: float64 \n",
      "\n",
      "\n",
      "N9 \n",
      "count   19710.000\n",
      "mean        3.135\n",
      "std         1.299\n",
      "min         0.000\n",
      "25%         2.000\n",
      "50%         3.000\n",
      "75%         4.000\n",
      "max         5.000\n",
      "Name: N9, dtype: float64 \n",
      "\n",
      "\n",
      "N10 \n",
      "count   19710.000\n",
      "mean        2.834\n",
      "std         1.313\n",
      "min         0.000\n",
      "25%         2.000\n",
      "50%         3.000\n",
      "75%         4.000\n",
      "max         5.000\n",
      "Name: N10, dtype: float64 \n",
      "\n",
      "\n",
      "A1 \n",
      "count   19710.000\n",
      "mean        2.312\n",
      "std         1.369\n",
      "min         0.000\n",
      "25%         1.000\n",
      "50%         2.000\n",
      "75%         3.000\n",
      "max         5.000\n",
      "Name: A1, dtype: float64 \n",
      "\n",
      "\n",
      "A2 \n",
      "count   19710.000\n",
      "mean        3.927\n",
      "std         1.079\n",
      "min         0.000\n",
      "25%         3.000\n",
      "50%         4.000\n",
      "75%         5.000\n",
      "max         5.000\n",
      "Name: A2, dtype: float64 \n",
      "\n",
      "\n",
      "A3 \n",
      "count   19710.000\n",
      "mean        2.163\n",
      "std         1.216\n",
      "min         0.000\n",
      "25%         1.000\n",
      "50%         2.000\n",
      "75%         3.000\n",
      "max         5.000\n",
      "Name: A3, dtype: float64 \n",
      "\n",
      "\n",
      "A4 \n",
      "count   19710.000\n",
      "mean        4.030\n",
      "std         1.045\n",
      "min         0.000\n",
      "25%         4.000\n",
      "50%         4.000\n",
      "75%         5.000\n",
      "max         5.000\n",
      "Name: A4, dtype: float64 \n",
      "\n",
      "\n",
      "A5 \n",
      "count   19710.000\n",
      "mean        2.166\n",
      "std         1.142\n",
      "min         0.000\n",
      "25%         1.000\n",
      "50%         2.000\n",
      "75%         3.000\n",
      "max         5.000\n",
      "Name: A5, dtype: float64 \n",
      "\n",
      "\n",
      "A6 \n",
      "count   19710.000\n",
      "mean        3.896\n",
      "std         1.131\n",
      "min         0.000\n",
      "25%         3.000\n",
      "50%         4.000\n",
      "75%         5.000\n",
      "max         5.000\n",
      "Name: A6, dtype: float64 \n",
      "\n",
      "\n",
      "A7 \n",
      "count   19710.000\n",
      "mean        2.161\n",
      "std         1.132\n",
      "min         0.000\n",
      "25%         1.000\n",
      "50%         2.000\n",
      "75%         3.000\n",
      "max         5.000\n",
      "Name: A7, dtype: float64 \n",
      "\n",
      "\n",
      "A8 \n",
      "count   19710.000\n",
      "mean        3.767\n",
      "std         1.036\n",
      "min         0.000\n",
      "25%         3.000\n",
      "50%         4.000\n",
      "75%         5.000\n",
      "max         5.000\n",
      "Name: A8, dtype: float64 \n",
      "\n",
      "\n",
      "A9 \n",
      "count   19710.000\n",
      "mean        3.945\n",
      "std         1.086\n",
      "min         0.000\n",
      "25%         3.000\n",
      "50%         4.000\n",
      "75%         5.000\n",
      "max         5.000\n",
      "Name: A9, dtype: float64 \n",
      "\n",
      "\n",
      "A10 \n",
      "count   19710.000\n",
      "mean        3.682\n",
      "std         1.053\n",
      "min         0.000\n",
      "25%         3.000\n",
      "50%         4.000\n",
      "75%         5.000\n",
      "max         5.000\n",
      "Name: A10, dtype: float64 \n",
      "\n",
      "\n",
      "C1 \n",
      "count   19710.000\n",
      "mean        3.319\n",
      "std         1.100\n",
      "min         0.000\n",
      "25%         3.000\n",
      "50%         3.000\n",
      "75%         4.000\n",
      "max         5.000\n",
      "Name: C1, dtype: float64 \n",
      "\n",
      "\n",
      "C2 \n",
      "count   19710.000\n",
      "mean        2.979\n",
      "std         1.367\n",
      "min         0.000\n",
      "25%         2.000\n",
      "50%         3.000\n",
      "75%         4.000\n",
      "max         5.000\n",
      "Name: C2, dtype: float64 \n",
      "\n",
      "\n",
      "C3 \n",
      "count   19710.000\n",
      "mean        3.983\n",
      "std         1.003\n",
      "min         0.000\n",
      "25%         3.000\n",
      "50%         4.000\n",
      "75%         5.000\n",
      "max         5.000\n",
      "Name: C3, dtype: float64 \n",
      "\n",
      "\n",
      "C4 \n",
      "count   19710.000\n",
      "mean        2.654\n",
      "std         1.243\n",
      "min         0.000\n",
      "25%         2.000\n",
      "50%         3.000\n",
      "75%         4.000\n",
      "max         5.000\n",
      "Name: C4, dtype: float64 \n",
      "\n",
      "\n",
      "C5 \n",
      "count   19710.000\n",
      "mean        2.700\n",
      "std         1.250\n",
      "min         0.000\n",
      "25%         2.000\n",
      "50%         3.000\n",
      "75%         4.000\n",
      "max         5.000\n",
      "Name: C5, dtype: float64 \n",
      "\n",
      "\n",
      "C6 \n",
      "count   19710.000\n",
      "mean        2.923\n",
      "std         1.399\n",
      "min         0.000\n",
      "25%         2.000\n",
      "50%         3.000\n",
      "75%         4.000\n",
      "max         5.000\n",
      "Name: C6, dtype: float64 \n",
      "\n",
      "\n",
      "C7 \n",
      "count   19710.000\n",
      "mean        3.647\n",
      "std         1.153\n",
      "min         0.000\n",
      "25%         3.000\n",
      "50%         4.000\n",
      "75%         5.000\n",
      "max         5.000\n",
      "Name: C7, dtype: float64 \n",
      "\n",
      "\n",
      "C8 \n",
      "count   19710.000\n",
      "mean        2.481\n",
      "std         1.133\n",
      "min         0.000\n",
      "25%         2.000\n",
      "50%         2.000\n",
      "75%         3.000\n",
      "max         5.000\n",
      "Name: C8, dtype: float64 \n",
      "\n",
      "\n",
      "C9 \n",
      "count   19710.000\n",
      "mean        3.225\n",
      "std         1.246\n",
      "min         0.000\n",
      "25%         2.000\n",
      "50%         3.000\n",
      "75%         4.000\n",
      "max         5.000\n",
      "Name: C9, dtype: float64 \n",
      "\n",
      "\n",
      "C10 \n",
      "count   19710.000\n",
      "mean        3.637\n",
      "std         1.013\n",
      "min         0.000\n",
      "25%         3.000\n",
      "50%         4.000\n",
      "75%         4.000\n",
      "max         5.000\n",
      "Name: C10, dtype: float64 \n",
      "\n",
      "\n",
      "O1 \n",
      "count   19710.000\n",
      "mean        3.692\n",
      "std         1.116\n",
      "min         0.000\n",
      "25%         3.000\n",
      "50%         4.000\n",
      "75%         5.000\n",
      "max         5.000\n",
      "Name: O1, dtype: float64 \n",
      "\n",
      "\n",
      "O2 \n",
      "count   19710.000\n",
      "mean        2.150\n",
      "std         1.135\n",
      "min         0.000\n",
      "25%         1.000\n",
      "50%         2.000\n",
      "75%         3.000\n",
      "max         5.000\n",
      "Name: O2, dtype: float64 \n",
      "\n",
      "\n",
      "O3 \n",
      "count   19710.000\n",
      "mean        4.126\n",
      "std         1.007\n",
      "min         0.000\n",
      "25%         4.000\n",
      "50%         4.000\n",
      "75%         5.000\n",
      "max         5.000\n",
      "Name: O3, dtype: float64 \n",
      "\n",
      "\n",
      "O4 \n",
      "count   19710.000\n",
      "mean        2.079\n",
      "std         1.110\n",
      "min         0.000\n",
      "25%         1.000\n",
      "50%         2.000\n",
      "75%         3.000\n",
      "max         5.000\n",
      "Name: O4, dtype: float64 \n",
      "\n",
      "\n",
      "O5 \n",
      "count   19710.000\n",
      "mean        3.873\n",
      "std         0.940\n",
      "min         0.000\n",
      "25%         3.000\n",
      "50%         4.000\n",
      "75%         5.000\n",
      "max         5.000\n",
      "Name: O5, dtype: float64 \n",
      "\n",
      "\n",
      "O6 \n",
      "count   19710.000\n",
      "mean        1.795\n",
      "std         1.068\n",
      "min         0.000\n",
      "25%         1.000\n",
      "50%         1.000\n",
      "75%         2.000\n",
      "max         5.000\n",
      "Name: O6, dtype: float64 \n",
      "\n",
      "\n",
      "O7 \n",
      "count   19710.000\n",
      "mean        4.073\n",
      "std         0.923\n",
      "min         0.000\n",
      "25%         4.000\n",
      "50%         4.000\n",
      "75%         5.000\n",
      "max         5.000\n",
      "Name: O7, dtype: float64 \n",
      "\n",
      "\n",
      "O8 \n",
      "count   19710.000\n",
      "mean        3.208\n",
      "std         1.259\n",
      "min         0.000\n",
      "25%         2.000\n",
      "50%         3.000\n",
      "75%         4.000\n",
      "max         5.000\n",
      "Name: O8, dtype: float64 \n",
      "\n",
      "\n",
      "O9 \n",
      "count   19710.000\n",
      "mean        4.133\n",
      "std         0.983\n",
      "min         0.000\n",
      "25%         4.000\n",
      "50%         4.000\n",
      "75%         5.000\n",
      "max         5.000\n",
      "Name: O9, dtype: float64 \n",
      "\n",
      "\n",
      "O10 \n",
      "count   19710.000\n",
      "mean        4.005\n",
      "std         0.984\n",
      "min         0.000\n",
      "25%         3.000\n",
      "50%         4.000\n",
      "75%         5.000\n",
      "max         5.000\n",
      "Name: O10, dtype: float64 \n",
      "\n",
      "\n"
     ]
    }
   ],
   "source": [
    "for c in df.columns[7:]:\n",
    "    print c,'\\n',df[c].describe(),'\\n\\n'"
   ]
  },
  {
   "cell_type": "code",
   "execution_count": 16,
   "metadata": {
    "collapsed": true
   },
   "outputs": [],
   "source": [
    "for c in df.columns:\n",
    "    df = df[df[c] != 0]"
   ]
  },
  {
   "cell_type": "code",
   "execution_count": 17,
   "metadata": {
    "collapsed": false
   },
   "outputs": [
    {
     "name": "stdout",
     "output_type": "stream",
     "text": [
      "race   0\n",
      "age   0\n",
      "engnat   0\n",
      "gender   0\n",
      "hand   0\n",
      "source   0\n",
      "country   0\n",
      "E1   0\n",
      "E2   0\n",
      "E3   0\n",
      "E4   0\n",
      "E5   0\n",
      "E6   0\n",
      "E7   0\n",
      "E8   0\n",
      "E9   0\n",
      "E10   0\n",
      "N1   0\n",
      "N2   0\n",
      "N3   0\n",
      "N4   0\n",
      "N5   0\n",
      "N6   0\n",
      "N7   0\n",
      "N8   0\n",
      "N9   0\n",
      "N10   0\n",
      "A1   0\n",
      "A2   0\n",
      "A3   0\n",
      "A4   0\n",
      "A5   0\n",
      "A6   0\n",
      "A7   0\n",
      "A8   0\n",
      "A9   0\n",
      "A10   0\n",
      "C1   0\n",
      "C2   0\n",
      "C3   0\n",
      "C4   0\n",
      "C5   0\n",
      "C6   0\n",
      "C7   0\n",
      "C8   0\n",
      "C9   0\n",
      "C10   0\n",
      "O1   0\n",
      "O2   0\n",
      "O3   0\n",
      "O4   0\n",
      "O5   0\n",
      "O6   0\n",
      "O7   0\n",
      "O8   0\n",
      "O9   0\n",
      "O10   0\n"
     ]
    }
   ],
   "source": [
    "for c in df.columns:\n",
    "    print c, ' ', sum(df[c] == 0)"
   ]
  },
  {
   "cell_type": "code",
   "execution_count": 18,
   "metadata": {
    "collapsed": false
   },
   "outputs": [
    {
     "data": {
      "text/plain": [
       "(19375, 57)"
      ]
     },
     "execution_count": 18,
     "metadata": {},
     "output_type": "execute_result"
    }
   ],
   "source": [
    "df.shape"
   ]
  },
  {
   "cell_type": "code",
   "execution_count": 19,
   "metadata": {
    "collapsed": false
   },
   "outputs": [
    {
     "data": {
      "text/plain": [
       "array(['US', 'PK', 'RO', 'IN', 'IT', 'FR', 'GB', 'LT', 'CA', 'GR', 'DK',\n",
       "       'MX', 'SE', 'JO', 'NO', 'IE', 'NZ', 'FI', 'BE', 'HR', 'ZA', 'PL',\n",
       "       'BR', 'SK', 'SA', 'PH', 'AU', 'JP', 'ID', 'MY', 'KW', 'TR', 'SG',\n",
       "       'IL', 'DE', 'AE', 'BT', 'AR', 'RS', 'GH', 'NL', 'MU', 'KE', '(nu',\n",
       "       'AT', 'TZ', 'ES', 'HU', 'RU', 'UG', 'PT', 'HK', 'CO', 'CN', 'BH',\n",
       "       'ME', 'BZ', 'SI', 'CZ', 'CH', 'LK', 'EG', 'TH', 'BG', 'AZ', 'PR',\n",
       "       'NP', 'FJ', 'CM', 'BD', 'VN', 'LB', 'PW', 'MA', 'IR', 'EE', 'JM',\n",
       "       'UA', 'MM', 'A1', 'KR', 'CY', 'JE', 'QA', 'OM', 'MK', 'VE', 'IS',\n",
       "       'NG', 'ZW', 'CR', 'CL', 'SY', 'DO', 'AL', 'SV', 'TT', 'EU', 'BM',\n",
       "       'HT', 'TW', 'MZ', 'BW', 'BF', 'TN', 'IM', 'BA', 'KZ', 'GG', 'SD',\n",
       "       'HN', 'GE', 'KH', 'PG', 'MV', 'RW', 'LS', 'PE', 'BB', 'LA', 'BO',\n",
       "       'VC', 'PA', 'BN', 'AG', 'LV', 'A2', 'MP', 'EC', 'MT', 'GP', 'AS',\n",
       "       'AP', 'FO', 'NI', 'GU', 'DZ', 'BS', 'SR', 'GY', 'LY', 'IQ', 'GT',\n",
       "       'VI', 'KY', 'MN', 'ET', 'AO', 'UY', 'MR', 'CV', 'MW', 'ZM', 'PY',\n",
       "       'UZ', 'TC', 'KG'], dtype=object)"
      ]
     },
     "execution_count": 19,
     "metadata": {},
     "output_type": "execute_result"
    }
   ],
   "source": [
    "countries = pd.unique(df.country.values.ravel())\n",
    "countries"
   ]
  },
  {
   "cell_type": "code",
   "execution_count": 20,
   "metadata": {
    "collapsed": false
   },
   "outputs": [],
   "source": [
    "df.country = df.country.replace('(nu','NU')\n",
    "df = df[df.country != 'A1']\n",
    "df = df[df.country != 'A2']"
   ]
  },
  {
   "cell_type": "code",
   "execution_count": 21,
   "metadata": {
    "collapsed": false
   },
   "outputs": [
    {
     "data": {
      "text/plain": [
       "array(['US', 'PK', 'RO', 'IN', 'IT', 'FR', 'GB', 'LT', 'CA', 'GR', 'DK',\n",
       "       'MX', 'SE', 'JO', 'NO', 'IE', 'NZ', 'FI', 'BE', 'HR', 'ZA', 'PL',\n",
       "       'BR', 'SK', 'SA', 'PH', 'AU', 'JP', 'ID', 'MY', 'KW', 'TR', 'SG',\n",
       "       'IL', 'DE', 'AE', 'BT', 'AR', 'RS', 'GH', 'NL', 'MU', 'KE', 'NU',\n",
       "       'AT', 'TZ', 'ES', 'HU', 'RU', 'UG', 'PT', 'HK', 'CO', 'CN', 'BH',\n",
       "       'ME', 'BZ', 'SI', 'CZ', 'CH', 'LK', 'EG', 'TH', 'BG', 'AZ', 'PR',\n",
       "       'NP', 'FJ', 'CM', 'BD', 'VN', 'LB', 'PW', 'MA', 'IR', 'EE', 'JM',\n",
       "       'UA', 'MM', 'KR', 'CY', 'JE', 'QA', 'OM', 'MK', 'VE', 'IS', 'NG',\n",
       "       'ZW', 'CR', 'CL', 'SY', 'DO', 'AL', 'SV', 'TT', 'EU', 'BM', 'HT',\n",
       "       'TW', 'MZ', 'BW', 'BF', 'TN', 'IM', 'BA', 'KZ', 'GG', 'SD', 'HN',\n",
       "       'GE', 'KH', 'PG', 'MV', 'RW', 'LS', 'PE', 'BB', 'LA', 'BO', 'VC',\n",
       "       'PA', 'BN', 'AG', 'LV', 'MP', 'EC', 'MT', 'GP', 'AS', 'AP', 'FO',\n",
       "       'NI', 'GU', 'DZ', 'BS', 'SR', 'GY', 'LY', 'IQ', 'GT', 'VI', 'KY',\n",
       "       'MN', 'ET', 'AO', 'UY', 'MR', 'CV', 'MW', 'ZM', 'PY', 'UZ', 'TC',\n",
       "       'KG'], dtype=object)"
      ]
     },
     "execution_count": 21,
     "metadata": {},
     "output_type": "execute_result"
    }
   ],
   "source": [
    "countries = pd.unique(df.country.values.ravel())\n",
    "countries"
   ]
  },
  {
   "cell_type": "code",
   "execution_count": 22,
   "metadata": {
    "collapsed": true
   },
   "outputs": [],
   "source": [
    "age = list(df.age)\n",
    "new_age = []\n",
    "for a in age:\n",
    "    if a > 1000:\n",
    "        n = 2014-a\n",
    "    else:\n",
    "        n = a\n",
    "    new_age.append(n)"
   ]
  },
  {
   "cell_type": "code",
   "execution_count": 23,
   "metadata": {
    "collapsed": false
   },
   "outputs": [],
   "source": [
    "df.drop(['age'],axis=1,inplace=True)\n",
    "df.insert(1,'age',new_age)"
   ]
  },
  {
   "cell_type": "code",
   "execution_count": 24,
   "metadata": {
    "collapsed": false
   },
   "outputs": [],
   "source": [
    "df = df[(df.age > 0) & (df.age < 100)]"
   ]
  },
  {
   "cell_type": "code",
   "execution_count": 25,
   "metadata": {
    "collapsed": false
   },
   "outputs": [],
   "source": [
    "rev_score = ['E2','E4','E6','E8','E10','A1','A3','A5','A7','C2',\n",
    "             'C4','C6','C8','O2','O4','O6']\n",
    "for q in rev_score:\n",
    "    df[q] = df[q].apply(reverse)"
   ]
  },
  {
   "cell_type": "code",
   "execution_count": 26,
   "metadata": {
    "collapsed": false
   },
   "outputs": [
    {
     "data": {
      "text/html": [
       "<div>\n",
       "<table border=\"1\" class=\"dataframe\">\n",
       "  <thead>\n",
       "    <tr style=\"text-align: right;\">\n",
       "      <th></th>\n",
       "      <th>race</th>\n",
       "      <th>age</th>\n",
       "      <th>engnat</th>\n",
       "      <th>gender</th>\n",
       "      <th>hand</th>\n",
       "      <th>source</th>\n",
       "      <th>country</th>\n",
       "      <th>E1</th>\n",
       "      <th>E2</th>\n",
       "      <th>E3</th>\n",
       "      <th>E4</th>\n",
       "      <th>E5</th>\n",
       "      <th>E6</th>\n",
       "      <th>E7</th>\n",
       "      <th>E8</th>\n",
       "      <th>E9</th>\n",
       "      <th>E10</th>\n",
       "      <th>N1</th>\n",
       "      <th>N2</th>\n",
       "      <th>N3</th>\n",
       "      <th>N4</th>\n",
       "      <th>N5</th>\n",
       "      <th>N6</th>\n",
       "      <th>N7</th>\n",
       "      <th>N8</th>\n",
       "      <th>N9</th>\n",
       "      <th>N10</th>\n",
       "      <th>A1</th>\n",
       "      <th>A2</th>\n",
       "      <th>A3</th>\n",
       "      <th>A4</th>\n",
       "      <th>A5</th>\n",
       "      <th>A6</th>\n",
       "      <th>A7</th>\n",
       "      <th>A8</th>\n",
       "      <th>A9</th>\n",
       "      <th>A10</th>\n",
       "      <th>C1</th>\n",
       "      <th>C2</th>\n",
       "      <th>C3</th>\n",
       "      <th>C4</th>\n",
       "      <th>C5</th>\n",
       "      <th>C6</th>\n",
       "      <th>C7</th>\n",
       "      <th>C8</th>\n",
       "      <th>C9</th>\n",
       "      <th>C10</th>\n",
       "      <th>O1</th>\n",
       "      <th>O2</th>\n",
       "      <th>O3</th>\n",
       "      <th>O4</th>\n",
       "      <th>O5</th>\n",
       "      <th>O6</th>\n",
       "      <th>O7</th>\n",
       "      <th>O8</th>\n",
       "      <th>O9</th>\n",
       "      <th>O10</th>\n",
       "    </tr>\n",
       "  </thead>\n",
       "  <tbody>\n",
       "    <tr>\n",
       "      <th>0</th>\n",
       "      <td>3</td>\n",
       "      <td>53</td>\n",
       "      <td>1</td>\n",
       "      <td>1</td>\n",
       "      <td>1</td>\n",
       "      <td>1</td>\n",
       "      <td>US</td>\n",
       "      <td>4</td>\n",
       "      <td>4</td>\n",
       "      <td>5</td>\n",
       "      <td>4</td>\n",
       "      <td>5</td>\n",
       "      <td>5</td>\n",
       "      <td>4</td>\n",
       "      <td>3</td>\n",
       "      <td>5</td>\n",
       "      <td>5</td>\n",
       "      <td>1</td>\n",
       "      <td>5</td>\n",
       "      <td>2</td>\n",
       "      <td>5</td>\n",
       "      <td>1</td>\n",
       "      <td>1</td>\n",
       "      <td>1</td>\n",
       "      <td>1</td>\n",
       "      <td>1</td>\n",
       "      <td>1</td>\n",
       "      <td>5</td>\n",
       "      <td>5</td>\n",
       "      <td>5</td>\n",
       "      <td>5</td>\n",
       "      <td>4</td>\n",
       "      <td>3</td>\n",
       "      <td>5</td>\n",
       "      <td>5</td>\n",
       "      <td>4</td>\n",
       "      <td>5</td>\n",
       "      <td>4</td>\n",
       "      <td>5</td>\n",
       "      <td>5</td>\n",
       "      <td>5</td>\n",
       "      <td>5</td>\n",
       "      <td>5</td>\n",
       "      <td>4</td>\n",
       "      <td>5</td>\n",
       "      <td>4</td>\n",
       "      <td>5</td>\n",
       "      <td>4</td>\n",
       "      <td>5</td>\n",
       "      <td>3</td>\n",
       "      <td>5</td>\n",
       "      <td>5</td>\n",
       "      <td>5</td>\n",
       "      <td>4</td>\n",
       "      <td>2</td>\n",
       "      <td>5</td>\n",
       "      <td>5.000</td>\n",
       "    </tr>\n",
       "    <tr>\n",
       "      <th>1</th>\n",
       "      <td>13</td>\n",
       "      <td>46</td>\n",
       "      <td>1</td>\n",
       "      <td>2</td>\n",
       "      <td>1</td>\n",
       "      <td>1</td>\n",
       "      <td>US</td>\n",
       "      <td>2</td>\n",
       "      <td>4</td>\n",
       "      <td>3</td>\n",
       "      <td>3</td>\n",
       "      <td>3</td>\n",
       "      <td>3</td>\n",
       "      <td>1</td>\n",
       "      <td>1</td>\n",
       "      <td>1</td>\n",
       "      <td>1</td>\n",
       "      <td>2</td>\n",
       "      <td>3</td>\n",
       "      <td>4</td>\n",
       "      <td>2</td>\n",
       "      <td>3</td>\n",
       "      <td>4</td>\n",
       "      <td>3</td>\n",
       "      <td>2</td>\n",
       "      <td>2</td>\n",
       "      <td>4</td>\n",
       "      <td>5</td>\n",
       "      <td>3</td>\n",
       "      <td>3</td>\n",
       "      <td>4</td>\n",
       "      <td>2</td>\n",
       "      <td>4</td>\n",
       "      <td>4</td>\n",
       "      <td>3</td>\n",
       "      <td>4</td>\n",
       "      <td>3</td>\n",
       "      <td>4</td>\n",
       "      <td>5</td>\n",
       "      <td>3</td>\n",
       "      <td>4</td>\n",
       "      <td>3</td>\n",
       "      <td>5</td>\n",
       "      <td>5</td>\n",
       "      <td>5</td>\n",
       "      <td>4</td>\n",
       "      <td>4</td>\n",
       "      <td>3</td>\n",
       "      <td>3</td>\n",
       "      <td>3</td>\n",
       "      <td>3</td>\n",
       "      <td>2</td>\n",
       "      <td>3</td>\n",
       "      <td>3</td>\n",
       "      <td>1</td>\n",
       "      <td>3</td>\n",
       "      <td>2.000</td>\n",
       "    </tr>\n",
       "    <tr>\n",
       "      <th>2</th>\n",
       "      <td>1</td>\n",
       "      <td>14</td>\n",
       "      <td>2</td>\n",
       "      <td>2</td>\n",
       "      <td>1</td>\n",
       "      <td>1</td>\n",
       "      <td>PK</td>\n",
       "      <td>5</td>\n",
       "      <td>5</td>\n",
       "      <td>1</td>\n",
       "      <td>2</td>\n",
       "      <td>5</td>\n",
       "      <td>5</td>\n",
       "      <td>1</td>\n",
       "      <td>1</td>\n",
       "      <td>5</td>\n",
       "      <td>5</td>\n",
       "      <td>5</td>\n",
       "      <td>1</td>\n",
       "      <td>5</td>\n",
       "      <td>5</td>\n",
       "      <td>5</td>\n",
       "      <td>5</td>\n",
       "      <td>5</td>\n",
       "      <td>5</td>\n",
       "      <td>5</td>\n",
       "      <td>5</td>\n",
       "      <td>1</td>\n",
       "      <td>1</td>\n",
       "      <td>1</td>\n",
       "      <td>5</td>\n",
       "      <td>5</td>\n",
       "      <td>5</td>\n",
       "      <td>5</td>\n",
       "      <td>5</td>\n",
       "      <td>5</td>\n",
       "      <td>5</td>\n",
       "      <td>4</td>\n",
       "      <td>5</td>\n",
       "      <td>5</td>\n",
       "      <td>5</td>\n",
       "      <td>5</td>\n",
       "      <td>5</td>\n",
       "      <td>5</td>\n",
       "      <td>5</td>\n",
       "      <td>5</td>\n",
       "      <td>5</td>\n",
       "      <td>4</td>\n",
       "      <td>1</td>\n",
       "      <td>5</td>\n",
       "      <td>5</td>\n",
       "      <td>5</td>\n",
       "      <td>5</td>\n",
       "      <td>5</td>\n",
       "      <td>5</td>\n",
       "      <td>5</td>\n",
       "      <td>5.000</td>\n",
       "    </tr>\n",
       "    <tr>\n",
       "      <th>3</th>\n",
       "      <td>3</td>\n",
       "      <td>19</td>\n",
       "      <td>2</td>\n",
       "      <td>2</td>\n",
       "      <td>1</td>\n",
       "      <td>1</td>\n",
       "      <td>RO</td>\n",
       "      <td>2</td>\n",
       "      <td>1</td>\n",
       "      <td>2</td>\n",
       "      <td>2</td>\n",
       "      <td>3</td>\n",
       "      <td>2</td>\n",
       "      <td>3</td>\n",
       "      <td>2</td>\n",
       "      <td>4</td>\n",
       "      <td>1</td>\n",
       "      <td>5</td>\n",
       "      <td>4</td>\n",
       "      <td>4</td>\n",
       "      <td>2</td>\n",
       "      <td>4</td>\n",
       "      <td>5</td>\n",
       "      <td>5</td>\n",
       "      <td>5</td>\n",
       "      <td>4</td>\n",
       "      <td>5</td>\n",
       "      <td>4</td>\n",
       "      <td>5</td>\n",
       "      <td>2</td>\n",
       "      <td>4</td>\n",
       "      <td>3</td>\n",
       "      <td>5</td>\n",
       "      <td>3</td>\n",
       "      <td>4</td>\n",
       "      <td>4</td>\n",
       "      <td>3</td>\n",
       "      <td>3</td>\n",
       "      <td>3</td>\n",
       "      <td>4</td>\n",
       "      <td>1</td>\n",
       "      <td>1</td>\n",
       "      <td>2</td>\n",
       "      <td>5</td>\n",
       "      <td>2</td>\n",
       "      <td>2</td>\n",
       "      <td>3</td>\n",
       "      <td>4</td>\n",
       "      <td>3</td>\n",
       "      <td>5</td>\n",
       "      <td>4</td>\n",
       "      <td>4</td>\n",
       "      <td>4</td>\n",
       "      <td>5</td>\n",
       "      <td>2</td>\n",
       "      <td>5</td>\n",
       "      <td>5.000</td>\n",
       "    </tr>\n",
       "    <tr>\n",
       "      <th>4</th>\n",
       "      <td>11</td>\n",
       "      <td>25</td>\n",
       "      <td>2</td>\n",
       "      <td>2</td>\n",
       "      <td>1</td>\n",
       "      <td>2</td>\n",
       "      <td>US</td>\n",
       "      <td>3</td>\n",
       "      <td>5</td>\n",
       "      <td>3</td>\n",
       "      <td>3</td>\n",
       "      <td>3</td>\n",
       "      <td>5</td>\n",
       "      <td>3</td>\n",
       "      <td>5</td>\n",
       "      <td>3</td>\n",
       "      <td>1</td>\n",
       "      <td>3</td>\n",
       "      <td>3</td>\n",
       "      <td>3</td>\n",
       "      <td>4</td>\n",
       "      <td>3</td>\n",
       "      <td>3</td>\n",
       "      <td>3</td>\n",
       "      <td>3</td>\n",
       "      <td>3</td>\n",
       "      <td>4</td>\n",
       "      <td>1</td>\n",
       "      <td>5</td>\n",
       "      <td>3</td>\n",
       "      <td>5</td>\n",
       "      <td>5</td>\n",
       "      <td>5</td>\n",
       "      <td>5</td>\n",
       "      <td>5</td>\n",
       "      <td>5</td>\n",
       "      <td>5</td>\n",
       "      <td>3</td>\n",
       "      <td>5</td>\n",
       "      <td>5</td>\n",
       "      <td>3</td>\n",
       "      <td>3</td>\n",
       "      <td>5</td>\n",
       "      <td>1</td>\n",
       "      <td>3</td>\n",
       "      <td>3</td>\n",
       "      <td>3</td>\n",
       "      <td>3</td>\n",
       "      <td>5</td>\n",
       "      <td>1</td>\n",
       "      <td>5</td>\n",
       "      <td>3</td>\n",
       "      <td>5</td>\n",
       "      <td>3</td>\n",
       "      <td>1</td>\n",
       "      <td>5</td>\n",
       "      <td>3.000</td>\n",
       "    </tr>\n",
       "  </tbody>\n",
       "</table>\n",
       "</div>"
      ],
      "text/plain": [
       "   race  age  engnat  gender  hand  source country  E1  E2  E3  E4  E5  E6  \\\n",
       "0     3   53       1       1     1       1      US   4   4   5   4   5   5   \n",
       "1    13   46       1       2     1       1      US   2   4   3   3   3   3   \n",
       "2     1   14       2       2     1       1      PK   5   5   1   2   5   5   \n",
       "3     3   19       2       2     1       1      RO   2   1   2   2   3   2   \n",
       "4    11   25       2       2     1       2      US   3   5   3   3   3   5   \n",
       "\n",
       "   E7  E8  E9  E10  N1  N2  N3  N4  N5  N6  N7  N8  N9  N10  A1  A2  A3  A4  \\\n",
       "0   4   3   5    5   1   5   2   5   1   1   1   1   1    1   5   5   5   5   \n",
       "1   1   1   1    1   2   3   4   2   3   4   3   2   2    4   5   3   3   4   \n",
       "2   1   1   5    5   5   1   5   5   5   5   5   5   5    5   1   1   1   5   \n",
       "3   3   2   4    1   5   4   4   2   4   5   5   5   4    5   4   5   2   4   \n",
       "4   3   5   3    1   3   3   3   4   3   3   3   3   3    4   1   5   3   5   \n",
       "\n",
       "   A5  A6  A7  A8  A9  A10  C1  C2  C3  C4  C5  C6  C7  C8  C9  C10  O1  O2  \\\n",
       "0   4   3   5   5   4    5   4   5   5   5   5   5   4   5   4    5   4   5   \n",
       "1   2   4   4   3   4    3   4   5   3   4   3   5   5   5   4    4   3   3   \n",
       "2   5   5   5   5   5    5   4   5   5   5   5   5   5   5   5    5   4   1   \n",
       "3   3   5   3   4   4    3   3   3   4   1   1   2   5   2   2    3   4   3   \n",
       "4   5   5   5   5   5    5   3   5   5   3   3   5   1   3   3    3   3   5   \n",
       "\n",
       "   O3  O4  O5  O6  O7  O8  O9   O10  \n",
       "0   3   5   5   5   4   2   5 5.000  \n",
       "1   3   3   2   3   3   1   3 2.000  \n",
       "2   5   5   5   5   5   5   5 5.000  \n",
       "3   5   4   4   4   5   2   5 5.000  \n",
       "4   1   5   3   5   3   1   5 3.000  "
      ]
     },
     "execution_count": 26,
     "metadata": {},
     "output_type": "execute_result"
    }
   ],
   "source": [
    "df.head()"
   ]
  },
  {
   "cell_type": "code",
   "execution_count": 27,
   "metadata": {
    "collapsed": true
   },
   "outputs": [],
   "source": [
    "df_age = df.drop(['race','engnat','gender','hand','country','source'],axis=1)\n",
    "df_race = df.drop(['age','engnat','gender','hand','country','source'],axis=1)\n",
    "df_engnat = df.drop(['race','age','gender','hand','country','source'],axis=1)\n",
    "df_gender = df.drop(['race','engnat','age','hand','country','source'],axis=1)\n",
    "df_hand = df.drop(['race','engnat','gender','age','country','source'],axis=1)"
   ]
  },
  {
   "cell_type": "code",
   "execution_count": 28,
   "metadata": {
    "collapsed": false
   },
   "outputs": [],
   "source": [
    "df.drop(['hand','source','engnat'],axis=1,inplace=True)"
   ]
  },
  {
   "cell_type": "code",
   "execution_count": 29,
   "metadata": {
    "collapsed": true
   },
   "outputs": [],
   "source": [
    "E = list(df.columns[4:14])\n",
    "N = list(df.columns[14:24])\n",
    "A = list(df.columns[24:34])\n",
    "C = list(df.columns[34:44])\n",
    "O = list(df.columns[44:54])"
   ]
  },
  {
   "cell_type": "code",
   "execution_count": 30,
   "metadata": {
    "collapsed": false
   },
   "outputs": [],
   "source": [
    "df['tot'] = 0\n",
    "tmp = pd.DataFrame()\n",
    "tmp['tot'] = df['tot']\n",
    "df.drop(['tot'],axis=1,inplace=True)"
   ]
  },
  {
   "cell_type": "code",
   "execution_count": 31,
   "metadata": {
    "collapsed": false
   },
   "outputs": [],
   "source": [
    "for e in E:\n",
    "    tmp['tot'] = tmp['tot'] + df[e]\n",
    "tmp['perc'] = (tmp['tot']/50)*100\n",
    "df.insert(14,'E_tot',tmp.tot)\n",
    "df.insert(15,'E_perc',tmp.perc)\n",
    "tmp['tot'] = 0\n",
    "\n",
    "for n in N:\n",
    "    tmp['tot'] = tmp['tot'] + df[n]\n",
    "tmp['perc'] = (tmp['tot']/50)*100\n",
    "df.insert(26,'N_tot',tmp.tot)\n",
    "df.insert(27,'N_perc',tmp.perc)\n",
    "tmp['tot'] = 0\n",
    "\n",
    "for a in A:\n",
    "    tmp['tot'] = tmp['tot'] + df[a]\n",
    "tmp['perc'] = (tmp['tot']/50)*100\n",
    "df.insert(38,'A_tot',tmp.tot)\n",
    "df.insert(39,'A_perc',tmp.perc)\n",
    "tmp['tot'] = 0\n",
    "\n",
    "for c in C:\n",
    "    tmp['tot'] = tmp['tot'] + df[c]\n",
    "tmp['perc'] = (tmp['tot']/50)*100\n",
    "df.insert(50,'C_tot',tmp.tot)\n",
    "df.insert(51,'C_perc',tmp.perc)\n",
    "tmp['tot'] = 0\n",
    "\n",
    "for o in O:\n",
    "    tmp['tot'] = tmp['tot'] + df[o]\n",
    "tmp['perc'] = (tmp['tot']/50)*100\n",
    "df.insert(62,'O_tot',tmp.tot)\n",
    "df.insert(63,'O_perc',tmp.perc)\n",
    "\n",
    "tmp['tot'] = 0\n",
    "tmp['perc'] = 0"
   ]
  },
  {
   "cell_type": "code",
   "execution_count": 32,
   "metadata": {
    "collapsed": false
   },
   "outputs": [
    {
     "data": {
      "text/html": [
       "<div>\n",
       "<table border=\"1\" class=\"dataframe\">\n",
       "  <thead>\n",
       "    <tr style=\"text-align: right;\">\n",
       "      <th></th>\n",
       "      <th>race</th>\n",
       "      <th>age</th>\n",
       "      <th>gender</th>\n",
       "      <th>country</th>\n",
       "      <th>E1</th>\n",
       "      <th>E2</th>\n",
       "      <th>E3</th>\n",
       "      <th>E4</th>\n",
       "      <th>E5</th>\n",
       "      <th>E6</th>\n",
       "      <th>E7</th>\n",
       "      <th>E8</th>\n",
       "      <th>E9</th>\n",
       "      <th>E10</th>\n",
       "      <th>E_tot</th>\n",
       "      <th>E_perc</th>\n",
       "      <th>N1</th>\n",
       "      <th>N2</th>\n",
       "      <th>N3</th>\n",
       "      <th>N4</th>\n",
       "      <th>N5</th>\n",
       "      <th>N6</th>\n",
       "      <th>N7</th>\n",
       "      <th>N8</th>\n",
       "      <th>N9</th>\n",
       "      <th>N10</th>\n",
       "      <th>N_tot</th>\n",
       "      <th>N_perc</th>\n",
       "      <th>A1</th>\n",
       "      <th>A2</th>\n",
       "      <th>A3</th>\n",
       "      <th>A4</th>\n",
       "      <th>A5</th>\n",
       "      <th>A6</th>\n",
       "      <th>A7</th>\n",
       "      <th>A8</th>\n",
       "      <th>A9</th>\n",
       "      <th>A10</th>\n",
       "      <th>A_tot</th>\n",
       "      <th>A_perc</th>\n",
       "      <th>C1</th>\n",
       "      <th>C2</th>\n",
       "      <th>C3</th>\n",
       "      <th>C4</th>\n",
       "      <th>C5</th>\n",
       "      <th>C6</th>\n",
       "      <th>C7</th>\n",
       "      <th>C8</th>\n",
       "      <th>C9</th>\n",
       "      <th>C10</th>\n",
       "      <th>C_tot</th>\n",
       "      <th>C_perc</th>\n",
       "      <th>O1</th>\n",
       "      <th>O2</th>\n",
       "      <th>O3</th>\n",
       "      <th>O4</th>\n",
       "      <th>O5</th>\n",
       "      <th>O6</th>\n",
       "      <th>O7</th>\n",
       "      <th>O8</th>\n",
       "      <th>O9</th>\n",
       "      <th>O10</th>\n",
       "      <th>O_tot</th>\n",
       "      <th>O_perc</th>\n",
       "    </tr>\n",
       "  </thead>\n",
       "  <tbody>\n",
       "    <tr>\n",
       "      <th>0</th>\n",
       "      <td>3</td>\n",
       "      <td>53</td>\n",
       "      <td>1</td>\n",
       "      <td>US</td>\n",
       "      <td>4</td>\n",
       "      <td>4</td>\n",
       "      <td>5</td>\n",
       "      <td>4</td>\n",
       "      <td>5</td>\n",
       "      <td>5</td>\n",
       "      <td>4</td>\n",
       "      <td>3</td>\n",
       "      <td>5</td>\n",
       "      <td>5</td>\n",
       "      <td>44</td>\n",
       "      <td>88.000</td>\n",
       "      <td>1</td>\n",
       "      <td>5</td>\n",
       "      <td>2</td>\n",
       "      <td>5</td>\n",
       "      <td>1</td>\n",
       "      <td>1</td>\n",
       "      <td>1</td>\n",
       "      <td>1</td>\n",
       "      <td>1</td>\n",
       "      <td>1</td>\n",
       "      <td>19</td>\n",
       "      <td>38.000</td>\n",
       "      <td>5</td>\n",
       "      <td>5</td>\n",
       "      <td>5</td>\n",
       "      <td>5</td>\n",
       "      <td>4</td>\n",
       "      <td>3</td>\n",
       "      <td>5</td>\n",
       "      <td>5</td>\n",
       "      <td>4</td>\n",
       "      <td>5</td>\n",
       "      <td>46</td>\n",
       "      <td>92.000</td>\n",
       "      <td>4</td>\n",
       "      <td>5</td>\n",
       "      <td>5</td>\n",
       "      <td>5</td>\n",
       "      <td>5</td>\n",
       "      <td>5</td>\n",
       "      <td>4</td>\n",
       "      <td>5</td>\n",
       "      <td>4</td>\n",
       "      <td>5</td>\n",
       "      <td>47</td>\n",
       "      <td>94.000</td>\n",
       "      <td>4</td>\n",
       "      <td>5</td>\n",
       "      <td>3</td>\n",
       "      <td>5</td>\n",
       "      <td>5</td>\n",
       "      <td>5</td>\n",
       "      <td>4</td>\n",
       "      <td>2</td>\n",
       "      <td>5</td>\n",
       "      <td>5.000</td>\n",
       "      <td>43.000</td>\n",
       "      <td>86.000</td>\n",
       "    </tr>\n",
       "    <tr>\n",
       "      <th>1</th>\n",
       "      <td>13</td>\n",
       "      <td>46</td>\n",
       "      <td>2</td>\n",
       "      <td>US</td>\n",
       "      <td>2</td>\n",
       "      <td>4</td>\n",
       "      <td>3</td>\n",
       "      <td>3</td>\n",
       "      <td>3</td>\n",
       "      <td>3</td>\n",
       "      <td>1</td>\n",
       "      <td>1</td>\n",
       "      <td>1</td>\n",
       "      <td>1</td>\n",
       "      <td>22</td>\n",
       "      <td>44.000</td>\n",
       "      <td>2</td>\n",
       "      <td>3</td>\n",
       "      <td>4</td>\n",
       "      <td>2</td>\n",
       "      <td>3</td>\n",
       "      <td>4</td>\n",
       "      <td>3</td>\n",
       "      <td>2</td>\n",
       "      <td>2</td>\n",
       "      <td>4</td>\n",
       "      <td>29</td>\n",
       "      <td>58.000</td>\n",
       "      <td>5</td>\n",
       "      <td>3</td>\n",
       "      <td>3</td>\n",
       "      <td>4</td>\n",
       "      <td>2</td>\n",
       "      <td>4</td>\n",
       "      <td>4</td>\n",
       "      <td>3</td>\n",
       "      <td>4</td>\n",
       "      <td>3</td>\n",
       "      <td>35</td>\n",
       "      <td>70.000</td>\n",
       "      <td>4</td>\n",
       "      <td>5</td>\n",
       "      <td>3</td>\n",
       "      <td>4</td>\n",
       "      <td>3</td>\n",
       "      <td>5</td>\n",
       "      <td>5</td>\n",
       "      <td>5</td>\n",
       "      <td>4</td>\n",
       "      <td>4</td>\n",
       "      <td>42</td>\n",
       "      <td>84.000</td>\n",
       "      <td>3</td>\n",
       "      <td>3</td>\n",
       "      <td>3</td>\n",
       "      <td>3</td>\n",
       "      <td>2</td>\n",
       "      <td>3</td>\n",
       "      <td>3</td>\n",
       "      <td>1</td>\n",
       "      <td>3</td>\n",
       "      <td>2.000</td>\n",
       "      <td>26.000</td>\n",
       "      <td>52.000</td>\n",
       "    </tr>\n",
       "    <tr>\n",
       "      <th>2</th>\n",
       "      <td>1</td>\n",
       "      <td>14</td>\n",
       "      <td>2</td>\n",
       "      <td>PK</td>\n",
       "      <td>5</td>\n",
       "      <td>5</td>\n",
       "      <td>1</td>\n",
       "      <td>2</td>\n",
       "      <td>5</td>\n",
       "      <td>5</td>\n",
       "      <td>1</td>\n",
       "      <td>1</td>\n",
       "      <td>5</td>\n",
       "      <td>5</td>\n",
       "      <td>35</td>\n",
       "      <td>70.000</td>\n",
       "      <td>5</td>\n",
       "      <td>1</td>\n",
       "      <td>5</td>\n",
       "      <td>5</td>\n",
       "      <td>5</td>\n",
       "      <td>5</td>\n",
       "      <td>5</td>\n",
       "      <td>5</td>\n",
       "      <td>5</td>\n",
       "      <td>5</td>\n",
       "      <td>46</td>\n",
       "      <td>92.000</td>\n",
       "      <td>1</td>\n",
       "      <td>1</td>\n",
       "      <td>1</td>\n",
       "      <td>5</td>\n",
       "      <td>5</td>\n",
       "      <td>5</td>\n",
       "      <td>5</td>\n",
       "      <td>5</td>\n",
       "      <td>5</td>\n",
       "      <td>5</td>\n",
       "      <td>38</td>\n",
       "      <td>76.000</td>\n",
       "      <td>4</td>\n",
       "      <td>5</td>\n",
       "      <td>5</td>\n",
       "      <td>5</td>\n",
       "      <td>5</td>\n",
       "      <td>5</td>\n",
       "      <td>5</td>\n",
       "      <td>5</td>\n",
       "      <td>5</td>\n",
       "      <td>5</td>\n",
       "      <td>49</td>\n",
       "      <td>98.000</td>\n",
       "      <td>4</td>\n",
       "      <td>1</td>\n",
       "      <td>5</td>\n",
       "      <td>5</td>\n",
       "      <td>5</td>\n",
       "      <td>5</td>\n",
       "      <td>5</td>\n",
       "      <td>5</td>\n",
       "      <td>5</td>\n",
       "      <td>5.000</td>\n",
       "      <td>45.000</td>\n",
       "      <td>90.000</td>\n",
       "    </tr>\n",
       "    <tr>\n",
       "      <th>3</th>\n",
       "      <td>3</td>\n",
       "      <td>19</td>\n",
       "      <td>2</td>\n",
       "      <td>RO</td>\n",
       "      <td>2</td>\n",
       "      <td>1</td>\n",
       "      <td>2</td>\n",
       "      <td>2</td>\n",
       "      <td>3</td>\n",
       "      <td>2</td>\n",
       "      <td>3</td>\n",
       "      <td>2</td>\n",
       "      <td>4</td>\n",
       "      <td>1</td>\n",
       "      <td>22</td>\n",
       "      <td>44.000</td>\n",
       "      <td>5</td>\n",
       "      <td>4</td>\n",
       "      <td>4</td>\n",
       "      <td>2</td>\n",
       "      <td>4</td>\n",
       "      <td>5</td>\n",
       "      <td>5</td>\n",
       "      <td>5</td>\n",
       "      <td>4</td>\n",
       "      <td>5</td>\n",
       "      <td>43</td>\n",
       "      <td>86.000</td>\n",
       "      <td>4</td>\n",
       "      <td>5</td>\n",
       "      <td>2</td>\n",
       "      <td>4</td>\n",
       "      <td>3</td>\n",
       "      <td>5</td>\n",
       "      <td>3</td>\n",
       "      <td>4</td>\n",
       "      <td>4</td>\n",
       "      <td>3</td>\n",
       "      <td>37</td>\n",
       "      <td>74.000</td>\n",
       "      <td>3</td>\n",
       "      <td>3</td>\n",
       "      <td>4</td>\n",
       "      <td>1</td>\n",
       "      <td>1</td>\n",
       "      <td>2</td>\n",
       "      <td>5</td>\n",
       "      <td>2</td>\n",
       "      <td>2</td>\n",
       "      <td>3</td>\n",
       "      <td>26</td>\n",
       "      <td>52.000</td>\n",
       "      <td>4</td>\n",
       "      <td>3</td>\n",
       "      <td>5</td>\n",
       "      <td>4</td>\n",
       "      <td>4</td>\n",
       "      <td>4</td>\n",
       "      <td>5</td>\n",
       "      <td>2</td>\n",
       "      <td>5</td>\n",
       "      <td>5.000</td>\n",
       "      <td>41.000</td>\n",
       "      <td>82.000</td>\n",
       "    </tr>\n",
       "    <tr>\n",
       "      <th>4</th>\n",
       "      <td>11</td>\n",
       "      <td>25</td>\n",
       "      <td>2</td>\n",
       "      <td>US</td>\n",
       "      <td>3</td>\n",
       "      <td>5</td>\n",
       "      <td>3</td>\n",
       "      <td>3</td>\n",
       "      <td>3</td>\n",
       "      <td>5</td>\n",
       "      <td>3</td>\n",
       "      <td>5</td>\n",
       "      <td>3</td>\n",
       "      <td>1</td>\n",
       "      <td>34</td>\n",
       "      <td>68.000</td>\n",
       "      <td>3</td>\n",
       "      <td>3</td>\n",
       "      <td>3</td>\n",
       "      <td>4</td>\n",
       "      <td>3</td>\n",
       "      <td>3</td>\n",
       "      <td>3</td>\n",
       "      <td>3</td>\n",
       "      <td>3</td>\n",
       "      <td>4</td>\n",
       "      <td>32</td>\n",
       "      <td>64.000</td>\n",
       "      <td>1</td>\n",
       "      <td>5</td>\n",
       "      <td>3</td>\n",
       "      <td>5</td>\n",
       "      <td>5</td>\n",
       "      <td>5</td>\n",
       "      <td>5</td>\n",
       "      <td>5</td>\n",
       "      <td>5</td>\n",
       "      <td>5</td>\n",
       "      <td>44</td>\n",
       "      <td>88.000</td>\n",
       "      <td>3</td>\n",
       "      <td>5</td>\n",
       "      <td>5</td>\n",
       "      <td>3</td>\n",
       "      <td>3</td>\n",
       "      <td>5</td>\n",
       "      <td>1</td>\n",
       "      <td>3</td>\n",
       "      <td>3</td>\n",
       "      <td>3</td>\n",
       "      <td>34</td>\n",
       "      <td>68.000</td>\n",
       "      <td>3</td>\n",
       "      <td>5</td>\n",
       "      <td>1</td>\n",
       "      <td>5</td>\n",
       "      <td>3</td>\n",
       "      <td>5</td>\n",
       "      <td>3</td>\n",
       "      <td>1</td>\n",
       "      <td>5</td>\n",
       "      <td>3.000</td>\n",
       "      <td>34.000</td>\n",
       "      <td>68.000</td>\n",
       "    </tr>\n",
       "  </tbody>\n",
       "</table>\n",
       "</div>"
      ],
      "text/plain": [
       "   race  age  gender country  E1  E2  E3  E4  E5  E6  E7  E8  E9  E10  E_tot  \\\n",
       "0     3   53       1      US   4   4   5   4   5   5   4   3   5    5     44   \n",
       "1    13   46       2      US   2   4   3   3   3   3   1   1   1    1     22   \n",
       "2     1   14       2      PK   5   5   1   2   5   5   1   1   5    5     35   \n",
       "3     3   19       2      RO   2   1   2   2   3   2   3   2   4    1     22   \n",
       "4    11   25       2      US   3   5   3   3   3   5   3   5   3    1     34   \n",
       "\n",
       "   E_perc  N1  N2  N3  N4  N5  N6  N7  N8  N9  N10  N_tot  N_perc  A1  A2  A3  \\\n",
       "0  88.000   1   5   2   5   1   1   1   1   1    1     19  38.000   5   5   5   \n",
       "1  44.000   2   3   4   2   3   4   3   2   2    4     29  58.000   5   3   3   \n",
       "2  70.000   5   1   5   5   5   5   5   5   5    5     46  92.000   1   1   1   \n",
       "3  44.000   5   4   4   2   4   5   5   5   4    5     43  86.000   4   5   2   \n",
       "4  68.000   3   3   3   4   3   3   3   3   3    4     32  64.000   1   5   3   \n",
       "\n",
       "   A4  A5  A6  A7  A8  A9  A10  A_tot  A_perc  C1  C2  C3  C4  C5  C6  C7  C8  \\\n",
       "0   5   4   3   5   5   4    5     46  92.000   4   5   5   5   5   5   4   5   \n",
       "1   4   2   4   4   3   4    3     35  70.000   4   5   3   4   3   5   5   5   \n",
       "2   5   5   5   5   5   5    5     38  76.000   4   5   5   5   5   5   5   5   \n",
       "3   4   3   5   3   4   4    3     37  74.000   3   3   4   1   1   2   5   2   \n",
       "4   5   5   5   5   5   5    5     44  88.000   3   5   5   3   3   5   1   3   \n",
       "\n",
       "   C9  C10  C_tot  C_perc  O1  O2  O3  O4  O5  O6  O7  O8  O9   O10  O_tot  \\\n",
       "0   4    5     47  94.000   4   5   3   5   5   5   4   2   5 5.000 43.000   \n",
       "1   4    4     42  84.000   3   3   3   3   2   3   3   1   3 2.000 26.000   \n",
       "2   5    5     49  98.000   4   1   5   5   5   5   5   5   5 5.000 45.000   \n",
       "3   2    3     26  52.000   4   3   5   4   4   4   5   2   5 5.000 41.000   \n",
       "4   3    3     34  68.000   3   5   1   5   3   5   3   1   5 3.000 34.000   \n",
       "\n",
       "   O_perc  \n",
       "0  86.000  \n",
       "1  52.000  \n",
       "2  90.000  \n",
       "3  82.000  \n",
       "4  68.000  "
      ]
     },
     "execution_count": 32,
     "metadata": {},
     "output_type": "execute_result"
    }
   ],
   "source": [
    "df.head()"
   ]
  },
  {
   "cell_type": "code",
   "execution_count": 34,
   "metadata": {
    "collapsed": false
   },
   "outputs": [],
   "source": [
    "df_totals = df[['country','E_tot','N_tot','O_tot','A_tot','C_tot']]\n",
    "df_totals.loc[df_totals['country'].value_counts()[df_totals['country']].values < 50, 'country'] = 'LOW_COUNT'\n",
    "df_totals = df_totals[df_totals.country != 'LOW_COUNT']\n",
    "\n",
    "countries = pd.unique(df_totals.country.values.ravel())\n",
    "dc = {}\n",
    "for co in countries:\n",
    "    dc[co] = df_totals[df_totals.country == co]"
   ]
  },
  {
   "cell_type": "code",
   "execution_count": 79,
   "metadata": {
    "collapsed": false
   },
   "outputs": [],
   "source": [
    "df_totals = df[['race','E_tot','N_tot','O_tot','A_tot','C_tot']]\n",
    "\n",
    "races = pd.unique(df_totals.race.values.ravel())\n",
    "races.sort()\n",
    "dr = {}\n",
    "for r in races:\n",
    "    dr[r] = df_totals[df_totals.race == r]"
   ]
  },
  {
   "cell_type": "code",
   "execution_count": 42,
   "metadata": {
    "collapsed": true
   },
   "outputs": [],
   "source": [
    "dfm = df[df.gender == 1]\n",
    "dff = df[df.gender == 2]"
   ]
  },
  {
   "cell_type": "code",
   "execution_count": 43,
   "metadata": {
    "collapsed": false
   },
   "outputs": [
    {
     "name": "stdout",
     "output_type": "stream",
     "text": [
      "# of Males:  7481\n",
      "# of Females:  11772\n"
     ]
    }
   ],
   "source": [
    "print '# of Males: ',dfm.shape[0]\n",
    "print '# of Females: ',dff.shape[0]"
   ]
  },
  {
   "cell_type": "code",
   "execution_count": 44,
   "metadata": {
    "collapsed": true
   },
   "outputs": [],
   "source": [
    "df_y = df[(df.age >= 0) & (df.age < 22)]\n",
    "df_m = df[(df.age >= 22) & (df.age < 40)]\n",
    "df_o = df[(df.age >= 40)]"
   ]
  },
  {
   "cell_type": "code",
   "execution_count": 45,
   "metadata": {
    "collapsed": false
   },
   "outputs": [
    {
     "name": "stdout",
     "output_type": "stream",
     "text": [
      "count   9085.000\n",
      "mean      17.837\n",
      "std        2.159\n",
      "min       13.000\n",
      "25%       16.000\n",
      "50%       18.000\n",
      "75%       20.000\n",
      "max       21.000\n",
      "Name: age, dtype: float64 \n",
      "\n",
      "count   7541.000\n",
      "mean      27.802\n",
      "std        4.923\n",
      "min       22.000\n",
      "25%       24.000\n",
      "50%       27.000\n",
      "75%       31.000\n",
      "max       39.000\n",
      "Name: age, dtype: float64 \n",
      "\n",
      "count   2723.000\n",
      "mean      49.790\n",
      "std        7.799\n",
      "min       40.000\n",
      "25%       43.000\n",
      "50%       48.000\n",
      "75%       54.000\n",
      "max       99.000\n",
      "Name: age, dtype: float64 \n",
      "\n"
     ]
    }
   ],
   "source": [
    "print df_y.age.describe(), '\\n'\n",
    "print df_m.age.describe(), '\\n'\n",
    "print df_o.age.describe(), '\\n'"
   ]
  },
  {
   "cell_type": "code",
   "execution_count": 46,
   "metadata": {
    "collapsed": true
   },
   "outputs": [],
   "source": [
    "totals = ['E_tot','N_tot','A_tot','C_tot','O_tot']\n",
    "b = range(0,51,5)"
   ]
  },
  {
   "cell_type": "markdown",
   "metadata": {},
   "source": [
    "### Overview"
   ]
  },
  {
   "cell_type": "code",
   "execution_count": 47,
   "metadata": {
    "collapsed": false
   },
   "outputs": [
    {
     "data": {
      "image/png": "[encoded data removed]",
      "text/plain": [
       "<matplotlib.figure.Figure at 0x100634e10>"
      ]
     },
     "metadata": {},
     "output_type": "display_data"
    },
    {
     "data": {
      "image/png": "[encoded data removed]",
      "text/plain": [
       "<matplotlib.figure.Figure at 0x109eddd10>"
      ]
     },
     "metadata": {},
     "output_type": "display_data"
    },
    {
     "data": {
      "image/png": "[encoded data removed]",
      "text/plain": [
       "<matplotlib.figure.Figure at 0x10e9daf90>"
      ]
     },
     "metadata": {},
     "output_type": "display_data"
    },
    {
     "data": {
      "image/png": "[encoded data removed]",
      "text/plain": [
       "<matplotlib.figure.Figure at 0x10eb03410>"
      ]
     },
     "metadata": {},
     "output_type": "display_data"
    },
    {
     "data": {
      "image/png": "[encoded data removed]",
      "text/plain": [
       "<matplotlib.figure.Figure at 0x10eb6f190>"
      ]
     },
     "metadata": {},
     "output_type": "display_data"
    }
   ],
   "source": [
    "for t in totals:\n",
    "    #plt.figure(figsize=(8,8))\n",
    "    plt.hist(df[t], bins=b, alpha=0.5, label=t)\n",
    "    plt.legend(loc='upper left')\n",
    "    plt.xticks(np.arange(0, 51, 10))\n",
    "    plt.show()"
   ]
  },
  {
   "cell_type": "markdown",
   "metadata": {},
   "source": [
    "### Gender"
   ]
  },
  {
   "cell_type": "code",
   "execution_count": 48,
   "metadata": {
    "collapsed": false
   },
   "outputs": [
    {
     "data": {
      "image/png": "[encoded data removed]",
      "text/plain": [
       "<matplotlib.figure.Figure at 0x1100412d0>"
      ]
     },
     "metadata": {},
     "output_type": "display_data"
    },
    {
     "data": {
      "image/png": "[encoded data removed]",
      "text/plain": [
       "<matplotlib.figure.Figure at 0x11029cf90>"
      ]
     },
     "metadata": {},
     "output_type": "display_data"
    }
   ],
   "source": [
    "plt.figure(figsize=(8,8))\n",
    "for t in totals:\n",
    "    plt.hist(dfm[t], bins=b, alpha=0.5, label=('Male ' + t))\n",
    "plt.legend(loc='upper left')\n",
    "plt.xticks(np.arange(0, 51, 10))\n",
    "plt.show()\n",
    "plt.figure(figsize=(8,8))\n",
    "for t in totals:\n",
    "    plt.hist(dff[t].values, bins=b, alpha=0.5, label=('Female ' + t))\n",
    "plt.legend(loc='upper left')\n",
    "plt.xticks(np.arange(0, 51, 10))\n",
    "plt.show()"
   ]
  },
  {
   "cell_type": "code",
   "execution_count": 49,
   "metadata": {
    "collapsed": false
   },
   "outputs": [
    {
     "data": {
      "image/png": "[encoded data removed]",
      "text/plain": [
       "<matplotlib.figure.Figure at 0x10ed83090>"
      ]
     },
     "metadata": {},
     "output_type": "display_data"
    },
    {
     "data": {
      "image/png": "[encoded data removed]",
      "text/plain": [
       "<matplotlib.figure.Figure at 0x110976c90>"
      ]
     },
     "metadata": {},
     "output_type": "display_data"
    },
    {
     "data": {
      "image/png": "[encoded data removed]",
      "text/plain": [
       "<matplotlib.figure.Figure at 0x1107df110>"
      ]
     },
     "metadata": {},
     "output_type": "display_data"
    },
    {
     "data": {
      "image/png": "[encoded data removed]",
      "text/plain": [
       "<matplotlib.figure.Figure at 0x1107ce210>"
      ]
     },
     "metadata": {},
     "output_type": "display_data"
    },
    {
     "data": {
      "image/png": "[encoded data removed]",
      "text/plain": [
       "<matplotlib.figure.Figure at 0x1099b4d90>"
      ]
     },
     "metadata": {},
     "output_type": "display_data"
    }
   ],
   "source": [
    "for t in totals:\n",
    "    plt.figure(figsize=(8,8))\n",
    "    plt.hist(dfm[t], bins=b, alpha=0.5, label=('Male ' + t))\n",
    "    plt.hist(dff[t].values, bins=b, alpha=0.5, label=('Female ' + t))\n",
    "    plt.legend(loc='upper left')\n",
    "    plt.xticks(np.arange(0, 51, 10))\n",
    "    plt.show()"
   ]
  },
  {
   "cell_type": "code",
   "execution_count": 121,
   "metadata": {
    "collapsed": false
   },
   "outputs": [
    {
     "name": "stdout",
     "output_type": "stream",
     "text": [
      "E_tot :  t-Value = -6.91138938814  p-Value = 4.94946554145e-12\n",
      "N_tot :  t-Value = -19.8901994127  p-Value = 3.71229261978e-87\n",
      "A_tot :  t-Value = -30.2108869503  p-Value = 6.25593905361e-196\n",
      "C_tot :  t-Value = -4.12562124251  p-Value = 3.71288941848e-05\n",
      "O_tot :  t-Value = 14.1889265507  p-Value = 1.81895346939e-45\n"
     ]
    }
   ],
   "source": [
    "#Curiosity\n",
    "for t in totals:\n",
    "    t_val, p_val = stats.ttest_ind(dfm[t],dff[t])\n",
    "    print t, ': ', 't-Value =', t_val, ' p-Value =', p_val"
   ]
  },
  {
   "cell_type": "markdown",
   "metadata": {},
   "source": [
    "### Ages"
   ]
  },
  {
   "cell_type": "code",
   "execution_count": 50,
   "metadata": {
    "collapsed": false
   },
   "outputs": [
    {
     "data": {
      "image/png": "[encoded data removed]",
      "text/plain": [
       "<matplotlib.figure.Figure at 0x11005d0d0>"
      ]
     },
     "metadata": {},
     "output_type": "display_data"
    },
    {
     "data": {
      "image/png": "[encoded data removed]",
      "text/plain": [
       "<matplotlib.figure.Figure at 0x1102614d0>"
      ]
     },
     "metadata": {},
     "output_type": "display_data"
    },
    {
     "data": {
      "image/png": "[encoded data removed]",
      "text/plain": [
       "<matplotlib.figure.Figure at 0x1099c8a50>"
      ]
     },
     "metadata": {},
     "output_type": "display_data"
    }
   ],
   "source": [
    "plt.figure(figsize=(8,8))\n",
    "for t in totals:\n",
    "    plt.hist(df_y[t].values, bins=b, alpha=0.5, label=('Younger ' + t))\n",
    "plt.legend(loc='upper left')\n",
    "plt.xticks(np.arange(0, 51, 10))\n",
    "plt.show()\n",
    "\n",
    "plt.figure(figsize=(8,8))\n",
    "for t in totals:\n",
    "    plt.hist(df_m[t].values, bins=b, alpha=0.5, label=('Middle ' + t))\n",
    "plt.legend(loc='upper left')\n",
    "plt.xticks(np.arange(0, 51, 10))\n",
    "plt.show()\n",
    "\n",
    "plt.figure(figsize=(8,8))\n",
    "for t in totals:\n",
    "    plt.hist(df_o[t].values, bins=b, alpha=0.5, label=('Older ' + t))\n",
    "plt.legend(loc='upper left')\n",
    "plt.xticks(np.arange(0, 51, 10))\n",
    "plt.show()"
   ]
  },
  {
   "cell_type": "code",
   "execution_count": 51,
   "metadata": {
    "collapsed": false
   },
   "outputs": [
    {
     "data": {
      "image/png": "[encoded data removed]",
      "text/plain": [
       "<matplotlib.figure.Figure at 0x1101d97d0>"
      ]
     },
     "metadata": {},
     "output_type": "display_data"
    },
    {
     "data": {
      "image/png": "[encoded data removed]",
      "text/plain": [
       "<matplotlib.figure.Figure at 0x1107ef710>"
      ]
     },
     "metadata": {},
     "output_type": "display_data"
    },
    {
     "data": {
      "image/png": "[encoded data removed]",
      "text/plain": [
       "<matplotlib.figure.Figure at 0x109f98750>"
      ]
     },
     "metadata": {},
     "output_type": "display_data"
    },
    {
     "data": {
      "image/png": "[encoded data removed]",
      "text/plain": [
       "<matplotlib.figure.Figure at 0x10ecfb710>"
      ]
     },
     "metadata": {},
     "output_type": "display_data"
    },
    {
     "data": {
      "image/png": "[encoded data removed]",
      "text/plain": [
       "<matplotlib.figure.Figure at 0x1106a6d10>"
      ]
     },
     "metadata": {},
     "output_type": "display_data"
    }
   ],
   "source": [
    "for t in totals:\n",
    "    plt.figure(figsize=(8,8))\n",
    "    plt.hist(df_y[t].values, bins=b, alpha=0.5, label=('Younger ' + t))\n",
    "    plt.hist(df_m[t].values, bins=b, alpha=0.5, label=('Middle ' + t))\n",
    "    plt.hist(df_o[t].values, bins=b, alpha=0.5, label=('Older ' + t))\n",
    "    plt.legend(loc='upper left')\n",
    "    plt.xticks(np.arange(0, 51, 10))\n",
    "    plt.show()"
   ]
  },
  {
   "cell_type": "code",
   "execution_count": 115,
   "metadata": {
    "collapsed": false
   },
   "outputs": [
    {
     "name": "stdout",
     "output_type": "stream",
     "text": [
      "E_tot :  F-Value = 105.388351245  P-Value = 3.00577491361e-46\n",
      "N_tot :  F-Value = 325.704063442  P-Value = 7.54776822155e-140\n",
      "A_tot :  F-Value = 221.396326674  P-Value = 8.56343221063e-96\n",
      "C_tot :  F-Value = 433.848496951  P-Value = 4.84356644714e-185\n",
      "O_tot :  F-Value = 74.64575321  P-Value = 5.08400451918e-33\n"
     ]
    }
   ],
   "source": [
    "#More for curiosity since ANOVA assumptions may not be met\n",
    "for t in totals:\n",
    "    F, p_val = stats.f_oneway(df_y[t],df_m[t],df_o[t])\n",
    "    print t, ': ', 'F-Value =', F, ' P-Value =', p_val"
   ]
  },
  {
   "cell_type": "markdown",
   "metadata": {},
   "source": [
    "### US vs. World"
   ]
  },
  {
   "cell_type": "code",
   "execution_count": 52,
   "metadata": {
    "collapsed": false
   },
   "outputs": [],
   "source": [
    "df_us = df[df.country == 'US']\n",
    "df_other = df[df.country != 'US'].drop(['country'],axis=1)\n",
    "c = []\n",
    "for i in range(0,len(df_other)):\n",
    "    c.append('World')\n",
    "df_other.insert(3,'country',c)"
   ]
  },
  {
   "cell_type": "code",
   "execution_count": 53,
   "metadata": {
    "collapsed": false
   },
   "outputs": [
    {
     "data": {
      "image/png": "[encoded data removed]",
      "text/plain": [
       "<matplotlib.figure.Figure at 0x110708cd0>"
      ]
     },
     "metadata": {},
     "output_type": "display_data"
    },
    {
     "data": {
      "image/png": "[encoded data removed]",
      "text/plain": [
       "<matplotlib.figure.Figure at 0x110579dd0>"
      ]
     },
     "metadata": {},
     "output_type": "display_data"
    },
    {
     "data": {
      "image/png": "[encoded data removed]",
      "text/plain": [
       "<matplotlib.figure.Figure at 0x110793f90>"
      ]
     },
     "metadata": {},
     "output_type": "display_data"
    },
    {
     "data": {
      "image/png": "[encoded data removed]",
      "text/plain": [
       "<matplotlib.figure.Figure at 0x11029eb90>"
      ]
     },
     "metadata": {},
     "output_type": "display_data"
    },
    {
     "data": {
      "image/png": "[encoded data removed]",
      "text/plain": [
       "<matplotlib.figure.Figure at 0x11078e610>"
      ]
     },
     "metadata": {},
     "output_type": "display_data"
    }
   ],
   "source": [
    "for t in totals:\n",
    "    plt.figure(figsize=(8,8))\n",
    "    plt.hist(df_us[t].values, bins=b, alpha=0.5, label=('US ' + t))\n",
    "    plt.hist(df_other[t].values, bins=b, alpha=0.5, label=('World ' + t))\n",
    "    plt.legend(loc='upper left')\n",
    "    plt.xticks(np.arange(0, 51, 10))\n",
    "    plt.show()"
   ]
  },
  {
   "cell_type": "markdown",
   "metadata": {},
   "source": [
    "### Races"
   ]
  },
  {
   "cell_type": "code",
   "execution_count": 81,
   "metadata": {
    "collapsed": false
   },
   "outputs": [
    {
     "data": {
      "image/png": "[encoded data removed]",
      "text/plain": [
       "<matplotlib.figure.Figure at 0x10eb1df90>"
      ]
     },
     "metadata": {},
     "output_type": "display_data"
    },
    {
     "data": {
      "image/png": "[encoded data removed]",
      "text/plain": [
       "<matplotlib.figure.Figure at 0x10ec35fd0>"
      ]
     },
     "metadata": {},
     "output_type": "display_data"
    },
    {
     "data": {
      "image/png": "[encoded data removed]",
      "text/plain": [
       "<matplotlib.figure.Figure at 0x1107dd610>"
      ]
     },
     "metadata": {},
     "output_type": "display_data"
    },
    {
     "data": {
      "image/png": "[encoded data removed]",
      "text/plain": [
       "<matplotlib.figure.Figure at 0x1106a6790>"
      ]
     },
     "metadata": {},
     "output_type": "display_data"
    },
    {
     "data": {
      "image/png": "[encoded data removed]",
      "text/plain": [
       "<matplotlib.figure.Figure at 0x1100a9cd0>"
      ]
     },
     "metadata": {},
     "output_type": "display_data"
    },
    {
     "data": {
      "image/png": "[encoded data removed]",
      "text/plain": [
       "<matplotlib.figure.Figure at 0x1101c5790>"
      ]
     },
     "metadata": {},
     "output_type": "display_data"
    },
    {
     "data": {
      "image/png": "[encoded data removed]",
      "text/plain": [
       "<matplotlib.figure.Figure at 0x110852dd0>"
      ]
     },
     "metadata": {},
     "output_type": "display_data"
    },
    {
     "data": {
      "image/png": "[encoded data removed]",
      "text/plain": [
       "<matplotlib.figure.Figure at 0x10eb93a50>"
      ]
     },
     "metadata": {},
     "output_type": "display_data"
    },
    {
     "data": {
      "image/png": "[encoded data removed]",
      "text/plain": [
       "<matplotlib.figure.Figure at 0x110139a10>"
      ]
     },
     "metadata": {},
     "output_type": "display_data"
    },
    {
     "data": {
      "image/png": "[encoded data removed]",
      "text/plain": [
       "<matplotlib.figure.Figure at 0x110232910>"
      ]
     },
     "metadata": {},
     "output_type": "display_data"
    },
    {
     "data": {
      "image/png": "[encoded data removed]",
      "text/plain": [
       "<matplotlib.figure.Figure at 0x11005b050>"
      ]
     },
     "metadata": {},
     "output_type": "display_data"
    },
    {
     "data": {
      "image/png": "[encoded data removed]",
      "text/plain": [
       "<matplotlib.figure.Figure at 0x11018ef50>"
      ]
     },
     "metadata": {},
     "output_type": "display_data"
    },
    {
     "data": {
      "image/png": "[encoded data removed]",
      "text/plain": [
       "<matplotlib.figure.Figure at 0x109914bd0>"
      ]
     },
     "metadata": {},
     "output_type": "display_data"
    }
   ],
   "source": [
    "for r in races:\n",
    "    plt.figure(figsize=(8,8))\n",
    "    plt.hist(dr[r][totals[0]].values, bins=b, alpha=0.5, label=(str(r) + ' ' + totals[0]))\n",
    "    plt.hist(dr[r][totals[1]].values, bins=b, alpha=0.5, label=(str(r) + ' ' + totals[1]))\n",
    "    plt.hist(dr[r][totals[2]].values, bins=b, alpha=0.5, label=(str(r) + ' ' + totals[2]))\n",
    "    plt.hist(dr[r][totals[3]].values, bins=b, alpha=0.5, label=(str(r) + ' ' + totals[3]))\n",
    "    plt.hist(dr[r][totals[4]].values, bins=b, alpha=0.5, label=(str(r) + ' ' + totals[4]))\n",
    "    plt.legend(loc='upper left')\n",
    "    plt.xticks(np.arange(0, 51, 10))\n",
    "    plt.show()"
   ]
  },
  {
   "cell_type": "code",
   "execution_count": 82,
   "metadata": {
    "collapsed": false
   },
   "outputs": [],
   "source": [
    "race_means = []\n",
    "for t in totals:\n",
    "    for r in races:\n",
    "        race_means.append(dr[r][t].mean())"
   ]
  },
  {
   "cell_type": "code",
   "execution_count": 83,
   "metadata": {
    "collapsed": false
   },
   "outputs": [],
   "source": [
    "race_E_means = race_means[:13]\n",
    "race_N_means = race_means[13:26]\n",
    "race_A_means = race_means[26:39]\n",
    "race_C_means = race_means[39:52]\n",
    "race_O_means = race_means[52:]"
   ]
  },
  {
   "cell_type": "code",
   "execution_count": 84,
   "metadata": {
    "collapsed": true
   },
   "outputs": [],
   "source": [
    "x = range(1,14)\n",
    "#x_labels = ['All','Male','Female','Young','Middle','Older','US','World']\n",
    "y = [race_E_means,race_N_means,race_A_means,race_C_means,race_O_means]\n",
    "colors = ['r','b','g','y','k']"
   ]
  },
  {
   "cell_type": "code",
   "execution_count": 90,
   "metadata": {
    "collapsed": false
   },
   "outputs": [
    {
     "data": {
      "image/png": "[encoded data removed]",
      "text/plain": [
       "<matplotlib.figure.Figure at 0x11098ff90>"
      ]
     },
     "metadata": {},
     "output_type": "display_data"
    }
   ],
   "source": [
    "#Legend idea from http://stackoverflow.com/questions/17411940/matplotlib-scatter-plot-legend\n",
    "plt.figure(figsize=(8,8))\n",
    "\n",
    "e = plt.scatter(x, y[0], marker='o', color=colors[0])\n",
    "n = plt.scatter(x, y[1], marker='o', color=colors[1])\n",
    "a  = plt.scatter(x, y[2], marker='o', color=colors[2])\n",
    "c  = plt.scatter(x, y[3], marker='o', color=colors[3])\n",
    "o  = plt.scatter(x, y[4], marker='o', color=colors[4])\n",
    "\n",
    "plt.legend((e, n, a, c, o),\n",
    "           ('E_Means', 'N_Means', 'A_Means', 'C_Means', 'O_Means'),\n",
    "           scatterpoints=1,\n",
    "           loc='lower left',\n",
    "           ncol=3,\n",
    "           fontsize=8)\n",
    "\n",
    "plt.xticks(x, range(1,14))\n",
    "\n",
    "plt.show()"
   ]
  },
  {
   "cell_type": "code",
   "execution_count": 118,
   "metadata": {
    "collapsed": false
   },
   "outputs": [
    {
     "name": "stdout",
     "output_type": "stream",
     "text": [
      "E_tot :  F-Value = 5.75772655511  P-Value = 5.08400451918e-33\n",
      "N_tot :  F-Value = 23.2903659826  P-Value = 5.08400451918e-33\n",
      "A_tot :  F-Value = 5.97669714412  P-Value = 5.08400451918e-33\n",
      "C_tot :  F-Value = 5.9306759373  P-Value = 5.08400451918e-33\n",
      "O_tot :  F-Value = 89.5143213702  P-Value = 5.08400451918e-33\n"
     ]
    }
   ],
   "source": [
    "#Unequal variances\n",
    "for t in totals:\n",
    "    F, p = stats.f_oneway(dr[1][t],dr[2][t],dr[3][t],dr[4][t],dr[5][t],dr[6][t],\n",
    "                          dr[7][t],dr[8][t],dr[9][t],dr[10][t],dr[11][t],dr[12][t],dr[13][t])\n",
    "    print t, ': ', 'F-Value =', F, ' P-Value =', p_val"
   ]
  },
  {
   "cell_type": "markdown",
   "metadata": {},
   "source": [
    "### Countries"
   ]
  },
  {
   "cell_type": "code",
   "execution_count": 97,
   "metadata": {
    "collapsed": false
   },
   "outputs": [
    {
     "data": {
      "image/png": "[encoded data removed]",
      "text/plain": [
       "<matplotlib.figure.Figure at 0x11071c110>"
      ]
     },
     "metadata": {},
     "output_type": "display_data"
    }
   ],
   "source": [
    "country_means = []\n",
    "for t in totals:\n",
    "    for c in countries:\n",
    "        country_means.append(dc[c][t].mean())\n",
    "\n",
    "co_E_means = country_means[:33]\n",
    "co_N_means = country_means[33:66]\n",
    "co_A_means = country_means[66:99]\n",
    "co_C_means = country_means[99:132]\n",
    "co_O_means = country_means[132:]\n",
    "\n",
    "x = range(0,33)\n",
    "x_labels = countries\n",
    "y = [co_E_means,co_N_means,co_A_means,co_C_means,co_O_means]\n",
    "colors = ['r','b','g','y','k']\n",
    "\n",
    "#Legend idea from http://stackoverflow.com/questions/17411940/matplotlib-scatter-plot-legend\n",
    "plt.figure(figsize=(35,20))\n",
    "\n",
    "e = plt.scatter(x, y[0], marker='o', color=colors[0])\n",
    "n = plt.scatter(x, y[1], marker='o', color=colors[1])\n",
    "a  = plt.scatter(x, y[2], marker='o', color=colors[2])\n",
    "c  = plt.scatter(x, y[3], marker='o', color=colors[3])\n",
    "o  = plt.scatter(x, y[4], marker='o', color=colors[4])\n",
    "\n",
    "plt.legend((e, n, a, c, o),\n",
    "           ('E_Means', 'N_Means', 'A_Means', 'C_Means', 'O_Means'),\n",
    "           scatterpoints=1,\n",
    "           loc='lower left',\n",
    "           ncol=3,\n",
    "           fontsize=8)\n",
    "\n",
    "plt.xticks(x, x_labels)\n",
    "\n",
    "plt.show()"
   ]
  },
  {
   "cell_type": "code",
   "execution_count": 98,
   "metadata": {
    "collapsed": false
   },
   "outputs": [],
   "source": [
    "#for co in countries:\n",
    "#    plt.figure(figsize=(8,8))\n",
    "#    plt.hist(dc[co][totals[0]].values, bins=b, alpha=0.5, label=(co + ' ' + totals[0]))\n",
    "#    plt.hist(dc[co][totals[1]].values, bins=b, alpha=0.5, label=(co + ' ' + totals[1]))\n",
    "#    plt.hist(dc[co][totals[2]].values, bins=b, alpha=0.5, label=(co + ' ' + totals[2]))\n",
    "#    plt.hist(dc[co][totals[3]].values, bins=b, alpha=0.5, label=(co + ' ' + totals[3]))\n",
    "#    plt.hist(dc[co][totals[4]].values, bins=b, alpha=0.5, label=(co + ' ' + totals[4]))\n",
    "#    plt.legend(loc='upper left')\n",
    "#    plt.xticks(np.arange(0, 51, 10))\n",
    "#    plt.show()"
   ]
  },
  {
   "cell_type": "markdown",
   "metadata": {},
   "source": [
    "### Group Comparisons"
   ]
  },
  {
   "cell_type": "code",
   "execution_count": 145,
   "metadata": {
    "collapsed": false
   },
   "outputs": [],
   "source": [
    "tot = []\n",
    "for t in totals:\n",
    "    tot.append(df[t].mean())\n",
    "    tot.append(dfm[t].mean())\n",
    "    tot.append(dff[t].mean())\n",
    "    tot.append(df_y[t].mean())\n",
    "    tot.append(df_m[t].mean())\n",
    "    tot.append(df_o[t].mean())\n",
    "    tot.append(df_us[t].mean())\n",
    "    tot.append(df_other[t].mean()) "
   ]
  },
  {
   "cell_type": "code",
   "execution_count": 112,
   "metadata": {
    "collapsed": true
   },
   "outputs": [],
   "source": [
    "E_means = tot[:8]\n",
    "N_means = tot[8:16]\n",
    "A_means = tot[16:24]\n",
    "C_means = tot[24:32]\n",
    "O_means = tot[32:]"
   ]
  },
  {
   "cell_type": "code",
   "execution_count": 113,
   "metadata": {
    "collapsed": true
   },
   "outputs": [],
   "source": [
    "x = range(0,8)\n",
    "x_labels = ['All','Male','Female','Young','Middle','Older','US','World']\n",
    "y = [E_means,N_means,A_means,C_means,O_means]\n",
    "colors = ['r','b','g','y','k']"
   ]
  },
  {
   "cell_type": "code",
   "execution_count": 114,
   "metadata": {
    "collapsed": true
   },
   "outputs": [],
   "source": [
    "means = []\n",
    "for j in y:\n",
    "    means.append(j)"
   ]
  },
  {
   "cell_type": "code",
   "execution_count": 115,
   "metadata": {
    "collapsed": true
   },
   "outputs": [],
   "source": [
    "df_means = pd.DataFrame()\n",
    "df_means.insert(0,'Means',means)"
   ]
  },
  {
   "cell_type": "code",
   "execution_count": 116,
   "metadata": {
    "collapsed": false
   },
   "outputs": [
    {
     "data": {
      "image/png": "[encoded data removed]",
      "text/plain": [
       "<matplotlib.figure.Figure at 0x111c401d0>"
      ]
     },
     "metadata": {},
     "output_type": "display_data"
    }
   ],
   "source": [
    "#Legend idea from http://stackoverflow.com/questions/17411940/matplotlib-scatter-plot-legend\n",
    "plt.figure(figsize=(8,8))\n",
    "\n",
    "e = plt.scatter(x, y[0], marker='o', color=colors[0])\n",
    "n = plt.scatter(x, y[1], marker='o', color=colors[1])\n",
    "a  = plt.scatter(x, y[2], marker='o', color=colors[2])\n",
    "c  = plt.scatter(x, y[3], marker='o', color=colors[3])\n",
    "o  = plt.scatter(x, y[4], marker='o', color=colors[4])\n",
    "\n",
    "plt.legend((e, n, a, c, o),\n",
    "           ('E_Means', 'N_Means', 'A_Means', 'C_Means', 'O_Means'),\n",
    "           scatterpoints=1,\n",
    "           loc='lower left',\n",
    "           ncol=3,\n",
    "           fontsize=8)\n",
    "\n",
    "plt.xticks(x, x_labels)\n",
    "\n",
    "plt.show()"
   ]
  },
  {
   "cell_type": "code",
   "execution_count": 117,
   "metadata": {
    "collapsed": false
   },
   "outputs": [
    {
     "data": {
      "text/plain": [
       "KMeans(copy_x=True, init='k-means++', max_iter=300, n_clusters=2, n_init=10,\n",
       "    n_jobs=1, precompute_distances='auto', random_state=42, tol=0.0001,\n",
       "    verbose=0)"
      ]
     },
     "execution_count": 117,
     "metadata": {},
     "output_type": "execute_result"
    }
   ],
   "source": [
    "kmeans_model = KMeans(n_clusters=2, random_state=42)\n",
    "kmeans_model.fit(means)"
   ]
  },
  {
   "cell_type": "code",
   "execution_count": 118,
   "metadata": {
    "collapsed": false
   },
   "outputs": [],
   "source": [
    "df_means['Cluster'] = kmeans_model.labels_"
   ]
  },
  {
   "cell_type": "code",
   "execution_count": 119,
   "metadata": {
    "collapsed": false
   },
   "outputs": [],
   "source": [
    "df_means.rename(index={0: 'E'},inplace=True)\n",
    "df_means.rename(index={1: 'N'},inplace=True)\n",
    "df_means.rename(index={2: 'A'},inplace=True)\n",
    "df_means.rename(index={3: 'C'},inplace=True)\n",
    "df_means.rename(index={4: 'O'},inplace=True)"
   ]
  },
  {
   "cell_type": "code",
   "execution_count": 120,
   "metadata": {
    "collapsed": false
   },
   "outputs": [
    {
     "data": {
      "text/html": [
       "<div>\n",
       "<table border=\"1\" class=\"dataframe\">\n",
       "  <thead>\n",
       "    <tr style=\"text-align: right;\">\n",
       "      <th></th>\n",
       "      <th>Means</th>\n",
       "      <th>Cluster</th>\n",
       "    </tr>\n",
       "  </thead>\n",
       "  <tbody>\n",
       "    <tr>\n",
       "      <th>E</th>\n",
       "      <td>[30.1145795648, 29.5698436038, 30.5101087326, ...</td>\n",
       "      <td>0</td>\n",
       "    </tr>\n",
       "    <tr>\n",
       "      <th>N</th>\n",
       "      <td>[30.9554498941, 29.7516374816, 31.7059972817, ...</td>\n",
       "      <td>0</td>\n",
       "    </tr>\n",
       "    <tr>\n",
       "      <th>A</th>\n",
       "      <td>[38.4461729288, 36.5574121107, 39.670829086, 3...</td>\n",
       "      <td>1</td>\n",
       "    </tr>\n",
       "    <tr>\n",
       "      <th>C</th>\n",
       "      <td>[33.463073027, 33.2019783451, 33.6473836222, 3...</td>\n",
       "      <td>0</td>\n",
       "    </tr>\n",
       "    <tr>\n",
       "      <th>O</th>\n",
       "      <td>[39.0961806812, 39.8815666355, 38.5766224941, ...</td>\n",
       "      <td>1</td>\n",
       "    </tr>\n",
       "  </tbody>\n",
       "</table>\n",
       "</div>"
      ],
      "text/plain": [
       "                                               Means  Cluster\n",
       "E  [30.1145795648, 29.5698436038, 30.5101087326, ...        0\n",
       "N  [30.9554498941, 29.7516374816, 31.7059972817, ...        0\n",
       "A  [38.4461729288, 36.5574121107, 39.670829086, 3...        1\n",
       "C  [33.463073027, 33.2019783451, 33.6473836222, 3...        0\n",
       "O  [39.0961806812, 39.8815666355, 38.5766224941, ...        1"
      ]
     },
     "execution_count": 120,
     "metadata": {},
     "output_type": "execute_result"
    }
   ],
   "source": [
    "df_means"
   ]
  },
  {
   "cell_type": "markdown",
   "metadata": {},
   "source": [
    "# Predictions"
   ]
  },
  {
   "cell_type": "code",
   "execution_count": 121,
   "metadata": {
    "collapsed": true
   },
   "outputs": [],
   "source": [
    "### Grid Search\n",
    "n_estimators = [50,100,300,400,500,1000]\n",
    "max_features = ['auto', 'sqrt','log2']\n",
    "min_samples_split = [3,5,7]\n",
    "\n",
    "\n",
    "rfc = RandomForestClassifier(n_jobs=1)\n",
    "rfr = RandomForestRegressor(n_jobs=1)\n",
    "model_r = GridSearchCV(rfr,\n",
    "                         dict(n_estimators=n_estimators,\n",
    "                              max_features=max_features,\n",
    "                              min_samples_split=min_samples_split\n",
    "                              ), cv=None, n_jobs=-1)\n",
    "model_c = GridSearchCV(rfc,\n",
    "                         dict(n_estimators=n_estimators,\n",
    "                              max_features=max_features,\n",
    "                              min_samples_split=min_samples_split\n",
    "                              ), cv=None, n_jobs=-1)"
   ]
  },
  {
   "cell_type": "code",
   "execution_count": 83,
   "metadata": {
    "collapsed": false
   },
   "outputs": [],
   "source": [
    "y_age = df_age.pop(\"age\")\n",
    "y_race = df_race.pop(\"race\")\n",
    "y_engnat = df_engnat.pop(\"engnat\")\n",
    "y_hand = df_hand.pop(\"hand\")\n",
    "y_gender = df_gender.pop(\"gender\")"
   ]
  },
  {
   "cell_type": "markdown",
   "metadata": {},
   "source": [
    "### Age"
   ]
  },
  {
   "cell_type": "code",
   "execution_count": 126,
   "metadata": {
    "collapsed": true
   },
   "outputs": [],
   "source": [
    "X_train, X_test, y_train, y_test = train_test_split(df_age, y_age, test_size=.2, random_state=42)\n",
    "model_r.fit(X_train, y_train)\n",
    "best_rf = model_r.best_estimator_"
   ]
  },
  {
   "cell_type": "code",
   "execution_count": 127,
   "metadata": {
    "collapsed": false
   },
   "outputs": [
    {
     "name": "stdout",
     "output_type": "stream",
     "text": [
      "Age Predictions\n",
      "RMSE:  10.4422028188\n",
      "R2:  0.17151298784\n"
     ]
    }
   ],
   "source": [
    "print 'Age Predictions'\n",
    "print 'RMSE: ',sqrt(mean_squared_error(y_test, best_rf.predict(X_test)))\n",
    "print 'R2: ',r2_score(y_test, best_rf.predict(X_test))"
   ]
  },
  {
   "cell_type": "markdown",
   "metadata": {},
   "source": [
    "C8: I shirk my duties."
   ]
  },
  {
   "cell_type": "code",
   "execution_count": 128,
   "metadata": {
    "collapsed": false
   },
   "outputs": [
    {
     "data": {
      "image/png": "[encoded data removed]",
      "text/plain": [
       "<matplotlib.figure.Figure at 0x103c9f390>"
      ]
     },
     "metadata": {},
     "output_type": "display_data"
    }
   ],
   "source": [
    "feature_importances = pd.Series(best_rf.feature_importances_, index=df_age.columns)\n",
    "feature_importances.sort()\n",
    "feature_importances.plot(kind=\"barh\", figsize=(10,10));"
   ]
  },
  {
   "cell_type": "code",
   "execution_count": 129,
   "metadata": {
    "collapsed": false
   },
   "outputs": [],
   "source": [
    "scores = cross_validation.cross_val_score(best_rf, df_age, y_age, cv=10)"
   ]
  },
  {
   "cell_type": "code",
   "execution_count": 130,
   "metadata": {
    "collapsed": false
   },
   "outputs": [
    {
     "data": {
      "text/plain": [
       "array([ 0.19666913,  0.19517681,  0.19604471,  0.21022305,  0.18228765,\n",
       "        0.19378559,  0.17734863,  0.16072368,  0.1636457 ,  0.19774241])"
      ]
     },
     "execution_count": 130,
     "metadata": {},
     "output_type": "execute_result"
    }
   ],
   "source": [
    "scores"
   ]
  },
  {
   "cell_type": "code",
   "execution_count": 131,
   "metadata": {
    "collapsed": false
   },
   "outputs": [
    {
     "data": {
      "text/plain": [
       "0.18736473431978523"
      ]
     },
     "execution_count": 131,
     "metadata": {},
     "output_type": "execute_result"
    }
   ],
   "source": [
    "scores.mean()"
   ]
  },
  {
   "cell_type": "markdown",
   "metadata": {},
   "source": [
    "### Race"
   ]
  },
  {
   "cell_type": "code",
   "execution_count": 132,
   "metadata": {
    "collapsed": true
   },
   "outputs": [],
   "source": [
    "X_train, X_test, y_train, y_test = train_test_split(df_race, y_race, test_size=.2, random_state=42)\n",
    "model_c.fit(X_train, y_train)\n",
    "best_rf = model_c.best_estimator_"
   ]
  },
  {
   "cell_type": "code",
   "execution_count": 133,
   "metadata": {
    "collapsed": false
   },
   "outputs": [
    {
     "name": "stdout",
     "output_type": "stream",
     "text": [
      "Race Predictions\n",
      "RMSE:  4.51488629933\n",
      "R2:  -0.311475269489\n"
     ]
    }
   ],
   "source": [
    "print 'Race Predictions'\n",
    "print 'RMSE: ',sqrt(mean_squared_error(y_test, best_rf.predict(X_test)))\n",
    "print 'R2: ',r2_score(y_test, best_rf.predict(X_test))"
   ]
  },
  {
   "cell_type": "markdown",
   "metadata": {},
   "source": [
    "O8: I use difficult words.\n",
    "O1: I have a rich vocabulary.\n",
    "A1: I feel little concern for others."
   ]
  },
  {
   "cell_type": "code",
   "execution_count": 134,
   "metadata": {
    "collapsed": false
   },
   "outputs": [
    {
     "data": {
      "image/png": "[encoded data removed]",
      "text/plain": [
       "<matplotlib.figure.Figure at 0x10f52df90>"
      ]
     },
     "metadata": {},
     "output_type": "display_data"
    }
   ],
   "source": [
    "feature_importances = pd.Series(best_rf.feature_importances_, index=df_race.columns)\n",
    "feature_importances.sort()\n",
    "feature_importances.plot(kind=\"barh\", figsize=(10,10));"
   ]
  },
  {
   "cell_type": "code",
   "execution_count": 135,
   "metadata": {
    "collapsed": true
   },
   "outputs": [],
   "source": [
    "scores = cross_validation.cross_val_score(best_rf, df_race, y_race, cv=10)"
   ]
  },
  {
   "cell_type": "code",
   "execution_count": 136,
   "metadata": {
    "collapsed": false
   },
   "outputs": [
    {
     "data": {
      "text/plain": [
       "array([ 0.5561277 ,  0.54994851,  0.5561277 ,  0.55750387,  0.5580795 ,\n",
       "        0.55113636,  0.55871702,  0.54578376,  0.54842051,  0.55544041])"
      ]
     },
     "execution_count": 136,
     "metadata": {},
     "output_type": "execute_result"
    }
   ],
   "source": [
    "scores"
   ]
  },
  {
   "cell_type": "code",
   "execution_count": 137,
   "metadata": {
    "collapsed": false
   },
   "outputs": [
    {
     "data": {
      "text/plain": [
       "0.55512522592305702"
      ]
     },
     "execution_count": 137,
     "metadata": {},
     "output_type": "execute_result"
    }
   ],
   "source": [
    "predicted = cross_validation.cross_val_predict(best_rf, df_race, y_race, cv=10)\n",
    "metrics.accuracy_score(y_race, predicted)"
   ]
  },
  {
   "cell_type": "markdown",
   "metadata": {},
   "source": [
    "### Gender"
   ]
  },
  {
   "cell_type": "code",
   "execution_count": 138,
   "metadata": {
    "collapsed": true
   },
   "outputs": [],
   "source": [
    "X_train, X_test, y_train, y_test = train_test_split(df_gender, y_gender, test_size=.2, random_state=42)\n",
    "model_c.fit(X_train, y_train)\n",
    "best_rf = model_c.best_estimator_"
   ]
  },
  {
   "cell_type": "code",
   "execution_count": 139,
   "metadata": {
    "collapsed": false
   },
   "outputs": [
    {
     "name": "stdout",
     "output_type": "stream",
     "text": [
      "Gender Predictions\n",
      "RMSE:  0.569016709326\n",
      "R2:  -0.304689178967\n"
     ]
    }
   ],
   "source": [
    "print 'Gender Predictions'\n",
    "print 'RMSE: ',sqrt(mean_squared_error(y_test, best_rf.predict(X_test)))\n",
    "print 'R2: ',r2_score(y_test, best_rf.predict(X_test))"
   ]
  },
  {
   "cell_type": "markdown",
   "metadata": {},
   "source": [
    "N1: I get stressed out easily.\n",
    "N2: I am relaxed most of the time."
   ]
  },
  {
   "cell_type": "code",
   "execution_count": 140,
   "metadata": {
    "collapsed": false
   },
   "outputs": [
    {
     "data": {
      "image/png": "[encoded data removed]",
      "text/plain": [
       "<matplotlib.figure.Figure at 0x1096391d0>"
      ]
     },
     "metadata": {},
     "output_type": "display_data"
    }
   ],
   "source": [
    "feature_importances = pd.Series(best_rf.feature_importances_, index=df_gender.columns)\n",
    "feature_importances.sort()\n",
    "feature_importances.plot(kind=\"barh\", figsize=(10,10));"
   ]
  },
  {
   "cell_type": "code",
   "execution_count": 141,
   "metadata": {
    "collapsed": false
   },
   "outputs": [],
   "source": [
    "scores = cross_validation.cross_val_score(best_rf, df_gender, y_gender, cv=10)"
   ]
  },
  {
   "cell_type": "code",
   "execution_count": 142,
   "metadata": {
    "collapsed": false
   },
   "outputs": [
    {
     "data": {
      "text/plain": [
       "array([ 0.67337461,  0.68559628,  0.67733609,  0.70160041,  0.68869386,\n",
       "        0.67010842,  0.67407025,  0.65237603,  0.6997416 ,  0.69302326])"
      ]
     },
     "execution_count": 142,
     "metadata": {},
     "output_type": "execute_result"
    }
   ],
   "source": [
    "scores"
   ]
  },
  {
   "cell_type": "code",
   "execution_count": 143,
   "metadata": {
    "collapsed": false
   },
   "outputs": [
    {
     "data": {
      "text/plain": [
       "0.68443067389620449"
      ]
     },
     "execution_count": 143,
     "metadata": {},
     "output_type": "execute_result"
    }
   ],
   "source": [
    "predicted = cross_validation.cross_val_predict(best_rf, df_gender, y_gender, cv=10)\n",
    "metrics.accuracy_score(y_gender, predicted)"
   ]
  },
  {
   "cell_type": "markdown",
   "metadata": {},
   "source": [
    "### Engnat"
   ]
  },
  {
   "cell_type": "code",
   "execution_count": 144,
   "metadata": {
    "collapsed": true
   },
   "outputs": [],
   "source": [
    "X_train, X_test, y_train, y_test = train_test_split(df_engnat, y_engnat, test_size=.2, random_state=42)\n",
    "model_c.fit(X_train, y_train)\n",
    "best_rf = model_c.best_estimator_"
   ]
  },
  {
   "cell_type": "code",
   "execution_count": 145,
   "metadata": {
    "collapsed": false
   },
   "outputs": [
    {
     "name": "stdout",
     "output_type": "stream",
     "text": [
      "Engnat Predictions\n",
      "RMSE:  0.515697307424\n",
      "R2:  -0.148685654063\n"
     ]
    }
   ],
   "source": [
    "print 'Engnat Predictions'\n",
    "print 'RMSE: ',sqrt(mean_squared_error(y_test, best_rf.predict(X_test)))\n",
    "print 'R2: ',r2_score(y_test, best_rf.predict(X_test))"
   ]
  },
  {
   "cell_type": "markdown",
   "metadata": {},
   "source": [
    "A1: I feel little concern for others."
   ]
  },
  {
   "cell_type": "code",
   "execution_count": 146,
   "metadata": {
    "collapsed": false
   },
   "outputs": [
    {
     "data": {
      "image/png": "[encoded data removed]",
      "text/plain": [
       "<matplotlib.figure.Figure at 0x110cf5790>"
      ]
     },
     "metadata": {},
     "output_type": "display_data"
    }
   ],
   "source": [
    "feature_importances = pd.Series(best_rf.feature_importances_, index=df_engnat.columns)\n",
    "feature_importances.sort()\n",
    "feature_importances.plot(kind=\"barh\", figsize=(10,10));"
   ]
  },
  {
   "cell_type": "code",
   "execution_count": 147,
   "metadata": {
    "collapsed": true
   },
   "outputs": [],
   "source": [
    "scores = cross_validation.cross_val_score(best_rf, df_engnat, y_engnat, cv=10)"
   ]
  },
  {
   "cell_type": "code",
   "execution_count": 148,
   "metadata": {
    "collapsed": false
   },
   "outputs": [
    {
     "data": {
      "text/plain": [
       "array([ 0.73515746,  0.73722251,  0.73102736,  0.73618998,  0.73102736,\n",
       "        0.73360867,  0.73309241,  0.74431818,  0.7245478 ,  0.72351421])"
      ]
     },
     "execution_count": 148,
     "metadata": {},
     "output_type": "execute_result"
    }
   ],
   "source": [
    "scores"
   ]
  },
  {
   "cell_type": "code",
   "execution_count": 149,
   "metadata": {
    "collapsed": false
   },
   "outputs": [
    {
     "data": {
      "text/plain": [
       "0.73410792667183067"
      ]
     },
     "execution_count": 149,
     "metadata": {},
     "output_type": "execute_result"
    }
   ],
   "source": [
    "predicted = cross_validation.cross_val_predict(best_rf, df_engnat, y_engnat, cv=10)\n",
    "metrics.accuracy_score(y_engnat, predicted)"
   ]
  },
  {
   "cell_type": "markdown",
   "metadata": {},
   "source": [
    "### Hand"
   ]
  },
  {
   "cell_type": "code",
   "execution_count": 151,
   "metadata": {
    "collapsed": true
   },
   "outputs": [],
   "source": [
    "X_train, X_test, y_train, y_test = train_test_split(df_hand, y_hand, test_size=.2, random_state=42)\n",
    "model_c.fit(X_train, y_train)\n",
    "best_rf = model_c.best_estimator_"
   ]
  },
  {
   "cell_type": "code",
   "execution_count": 152,
   "metadata": {
    "collapsed": false
   },
   "outputs": [
    {
     "name": "stdout",
     "output_type": "stream",
     "text": [
      "Hand Predictions\n",
      "RMSE:  0.433850413455\n",
      "R2:  -0.144884101153\n"
     ]
    }
   ],
   "source": [
    "print 'Hand Predictions'\n",
    "print 'RMSE: ',sqrt(mean_squared_error(y_test, best_rf.predict(X_test)))\n",
    "print 'R2: ',r2_score(y_test, best_rf.predict(X_test))"
   ]
  },
  {
   "cell_type": "markdown",
   "metadata": {},
   "source": [
    "All questions almost equally important."
   ]
  },
  {
   "cell_type": "code",
   "execution_count": 153,
   "metadata": {
    "collapsed": false
   },
   "outputs": [
    {
     "data": {
      "image/png": "[encoded data removed]",
      "text/plain": [
       "<matplotlib.figure.Figure at 0x110eda210>"
      ]
     },
     "metadata": {},
     "output_type": "display_data"
    }
   ],
   "source": [
    "feature_importances = pd.Series(best_rf.feature_importances_, index=df_engnat.columns)\n",
    "feature_importances.sort()\n",
    "feature_importances.plot(kind=\"barh\", figsize=(10,10));"
   ]
  },
  {
   "cell_type": "code",
   "execution_count": 154,
   "metadata": {
    "collapsed": true
   },
   "outputs": [],
   "source": [
    "scores = cross_validation.cross_val_score(best_rf, df_hand, y_hand, cv=10)"
   ]
  },
  {
   "cell_type": "code",
   "execution_count": 155,
   "metadata": {
    "collapsed": false
   },
   "outputs": [
    {
     "data": {
      "text/plain": [
       "array([ 0.88745483,  0.88797109,  0.88797109,  0.88797109,  0.88797109,\n",
       "        0.88797109,  0.88842975,  0.88842975,  0.88842975,  0.88837209])"
      ]
     },
     "execution_count": 155,
     "metadata": {},
     "output_type": "execute_result"
    }
   ],
   "source": [
    "scores"
   ]
  },
  {
   "cell_type": "code",
   "execution_count": 156,
   "metadata": {
    "collapsed": true
   },
   "outputs": [],
   "source": [
    "predicted = cross_validation.cross_val_predict(best_rf, df_hand, y_hand, cv=10)"
   ]
  },
  {
   "cell_type": "code",
   "execution_count": 157,
   "metadata": {
    "collapsed": false
   },
   "outputs": [
    {
     "data": {
      "text/plain": [
       "0.88814872192099148"
      ]
     },
     "execution_count": 157,
     "metadata": {},
     "output_type": "execute_result"
    }
   ],
   "source": [
    "metrics.accuracy_score(y_hand, predicted)"
   ]
  },
  {
   "cell_type": "code",
   "execution_count": null,
   "metadata": {
    "collapsed": true
   },
   "outputs": [],
   "source": []
  }
 ],
 "metadata": {
  "kernelspec": {
   "display_name": "Python 2",
   "language": "python",
   "name": "python2"
  },
  "language_info": {
   "codemirror_mode": {
    "name": "ipython",
    "version": 2
   },
   "file_extension": ".py",
   "mimetype": "text/x-python",
   "name": "python",
   "nbconvert_exporter": "python",
   "pygments_lexer": "ipython2",
   "version": "2.7.10"
  }
 },
 "nbformat": 4,
 "nbformat_minor": 0
}
